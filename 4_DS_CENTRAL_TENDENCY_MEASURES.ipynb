{
 "cells": [
  {
   "cell_type": "markdown",
   "id": "27482a11-6448-439c-99f6-9be6666d395a",
   "metadata": {},
   "source": [
    "##  Central Tendency Measures"
   ]
  },
  {
   "cell_type": "code",
   "execution_count": 32,
   "id": "88550595-e339-4ad2-a91e-6f07e271b5e4",
   "metadata": {},
   "outputs": [],
   "source": [
    "import numpy as np\n",
    "import pandas as pd\n",
    "import matplotlib.pyplot as plt\n",
    "import seaborn as sns"
   ]
  },
  {
   "cell_type": "code",
   "execution_count": 2,
   "id": "0724e63e-2062-4b07-a390-5c7ef2e351ad",
   "metadata": {},
   "outputs": [
    {
     "data": {
      "text/html": [
       "<div>\n",
       "<style scoped>\n",
       "    .dataframe tbody tr th:only-of-type {\n",
       "        vertical-align: middle;\n",
       "    }\n",
       "\n",
       "    .dataframe tbody tr th {\n",
       "        vertical-align: top;\n",
       "    }\n",
       "\n",
       "    .dataframe thead th {\n",
       "        text-align: right;\n",
       "    }\n",
       "</style>\n",
       "<table border=\"1\" class=\"dataframe\">\n",
       "  <thead>\n",
       "    <tr style=\"text-align: right;\">\n",
       "      <th></th>\n",
       "      <th>Student</th>\n",
       "      <th>Overall Marks</th>\n",
       "      <th>Gender</th>\n",
       "      <th>Subject</th>\n",
       "    </tr>\n",
       "  </thead>\n",
       "  <tbody>\n",
       "    <tr>\n",
       "      <th>0</th>\n",
       "      <td>Anish</td>\n",
       "      <td>97</td>\n",
       "      <td>Male</td>\n",
       "      <td>English</td>\n",
       "    </tr>\n",
       "    <tr>\n",
       "      <th>1</th>\n",
       "      <td>Rishabh</td>\n",
       "      <td>83</td>\n",
       "      <td>Male</td>\n",
       "      <td>English</td>\n",
       "    </tr>\n",
       "    <tr>\n",
       "      <th>2</th>\n",
       "      <td>Ajay</td>\n",
       "      <td>78</td>\n",
       "      <td>Male</td>\n",
       "      <td>Physics</td>\n",
       "    </tr>\n",
       "    <tr>\n",
       "      <th>3</th>\n",
       "      <td>Abhinav</td>\n",
       "      <td>86</td>\n",
       "      <td>Male</td>\n",
       "      <td>Chemistry</td>\n",
       "    </tr>\n",
       "    <tr>\n",
       "      <th>4</th>\n",
       "      <td>Anurag</td>\n",
       "      <td>91</td>\n",
       "      <td>Male</td>\n",
       "      <td>English</td>\n",
       "    </tr>\n",
       "  </tbody>\n",
       "</table>\n",
       "</div>"
      ],
      "text/plain": [
       "   Student  Overall Marks Gender    Subject\n",
       "0    Anish             97   Male    English\n",
       "1  Rishabh             83   Male    English\n",
       "2     Ajay             78   Male    Physics\n",
       "3  Abhinav             86   Male  Chemistry\n",
       "4   Anurag             91   Male    English"
      ]
     },
     "execution_count": 2,
     "metadata": {},
     "output_type": "execute_result"
    }
   ],
   "source": [
    "df = pd.read_csv(r\"Z_4_DS_CENTRAL_TENDENCY_MEASURES.csv\")\n",
    "df.head()"
   ]
  },
  {
   "cell_type": "code",
   "execution_count": 10,
   "id": "ee9652d8-eaf9-493c-980a-b092d59fa67b",
   "metadata": {},
   "outputs": [],
   "source": [
    "df = df.rename(columns={'Overall Marks':'Score'})"
   ]
  },
  {
   "cell_type": "code",
   "execution_count": 11,
   "id": "902c46bf-4e8b-46ad-aa1e-208fe9d04fbd",
   "metadata": {},
   "outputs": [
    {
     "data": {
      "text/html": [
       "<div>\n",
       "<style scoped>\n",
       "    .dataframe tbody tr th:only-of-type {\n",
       "        vertical-align: middle;\n",
       "    }\n",
       "\n",
       "    .dataframe tbody tr th {\n",
       "        vertical-align: top;\n",
       "    }\n",
       "\n",
       "    .dataframe thead th {\n",
       "        text-align: right;\n",
       "    }\n",
       "</style>\n",
       "<table border=\"1\" class=\"dataframe\">\n",
       "  <thead>\n",
       "    <tr style=\"text-align: right;\">\n",
       "      <th></th>\n",
       "      <th>Student</th>\n",
       "      <th>Score</th>\n",
       "      <th>Gender</th>\n",
       "      <th>Subject</th>\n",
       "    </tr>\n",
       "  </thead>\n",
       "  <tbody>\n",
       "    <tr>\n",
       "      <th>0</th>\n",
       "      <td>Anish</td>\n",
       "      <td>97</td>\n",
       "      <td>Male</td>\n",
       "      <td>English</td>\n",
       "    </tr>\n",
       "    <tr>\n",
       "      <th>1</th>\n",
       "      <td>Rishabh</td>\n",
       "      <td>83</td>\n",
       "      <td>Male</td>\n",
       "      <td>English</td>\n",
       "    </tr>\n",
       "    <tr>\n",
       "      <th>2</th>\n",
       "      <td>Ajay</td>\n",
       "      <td>78</td>\n",
       "      <td>Male</td>\n",
       "      <td>Physics</td>\n",
       "    </tr>\n",
       "    <tr>\n",
       "      <th>3</th>\n",
       "      <td>Abhinav</td>\n",
       "      <td>86</td>\n",
       "      <td>Male</td>\n",
       "      <td>Chemistry</td>\n",
       "    </tr>\n",
       "    <tr>\n",
       "      <th>4</th>\n",
       "      <td>Anurag</td>\n",
       "      <td>91</td>\n",
       "      <td>Male</td>\n",
       "      <td>English</td>\n",
       "    </tr>\n",
       "  </tbody>\n",
       "</table>\n",
       "</div>"
      ],
      "text/plain": [
       "   Student  Score Gender    Subject\n",
       "0    Anish     97   Male    English\n",
       "1  Rishabh     83   Male    English\n",
       "2     Ajay     78   Male    Physics\n",
       "3  Abhinav     86   Male  Chemistry\n",
       "4   Anurag     91   Male    English"
      ]
     },
     "execution_count": 11,
     "metadata": {},
     "output_type": "execute_result"
    }
   ],
   "source": [
    "df.head()"
   ]
  },
  {
   "cell_type": "code",
   "execution_count": 14,
   "id": "89427612-c46c-4abe-a7f2-12b316ed4a1a",
   "metadata": {},
   "outputs": [
    {
     "name": "stdout",
     "output_type": "stream",
     "text": [
      "<class 'pandas.core.frame.DataFrame'>\n",
      "Index: 100 entries, 0 to 99\n",
      "Data columns (total 4 columns):\n",
      " #   Column   Non-Null Count  Dtype \n",
      "---  ------   --------------  ----- \n",
      " 0   Student  100 non-null    object\n",
      " 1   Score    100 non-null    int64 \n",
      " 2   Gender   100 non-null    object\n",
      " 3   Subject  100 non-null    object\n",
      "dtypes: int64(1), object(3)\n",
      "memory usage: 3.9+ KB\n"
     ]
    }
   ],
   "source": [
    "df.info()"
   ]
  },
  {
   "cell_type": "code",
   "execution_count": 15,
   "id": "063edb72-52ea-4e1b-837d-94911c8458e4",
   "metadata": {},
   "outputs": [
    {
     "data": {
      "text/html": [
       "<div>\n",
       "<style scoped>\n",
       "    .dataframe tbody tr th:only-of-type {\n",
       "        vertical-align: middle;\n",
       "    }\n",
       "\n",
       "    .dataframe tbody tr th {\n",
       "        vertical-align: top;\n",
       "    }\n",
       "\n",
       "    .dataframe thead th {\n",
       "        text-align: right;\n",
       "    }\n",
       "</style>\n",
       "<table border=\"1\" class=\"dataframe\">\n",
       "  <thead>\n",
       "    <tr style=\"text-align: right;\">\n",
       "      <th></th>\n",
       "      <th>Score</th>\n",
       "    </tr>\n",
       "  </thead>\n",
       "  <tbody>\n",
       "    <tr>\n",
       "      <th>count</th>\n",
       "      <td>100.00000</td>\n",
       "    </tr>\n",
       "    <tr>\n",
       "      <th>mean</th>\n",
       "      <td>68.21000</td>\n",
       "    </tr>\n",
       "    <tr>\n",
       "      <th>std</th>\n",
       "      <td>26.34476</td>\n",
       "    </tr>\n",
       "    <tr>\n",
       "      <th>min</th>\n",
       "      <td>0.00000</td>\n",
       "    </tr>\n",
       "    <tr>\n",
       "      <th>25%</th>\n",
       "      <td>57.25000</td>\n",
       "    </tr>\n",
       "    <tr>\n",
       "      <th>50%</th>\n",
       "      <td>77.00000</td>\n",
       "    </tr>\n",
       "    <tr>\n",
       "      <th>75%</th>\n",
       "      <td>87.25000</td>\n",
       "    </tr>\n",
       "    <tr>\n",
       "      <th>max</th>\n",
       "      <td>100.00000</td>\n",
       "    </tr>\n",
       "  </tbody>\n",
       "</table>\n",
       "</div>"
      ],
      "text/plain": [
       "           Score\n",
       "count  100.00000\n",
       "mean    68.21000\n",
       "std     26.34476\n",
       "min      0.00000\n",
       "25%     57.25000\n",
       "50%     77.00000\n",
       "75%     87.25000\n",
       "max    100.00000"
      ]
     },
     "execution_count": 15,
     "metadata": {},
     "output_type": "execute_result"
    }
   ],
   "source": [
    "df.describe()"
   ]
  },
  {
   "cell_type": "code",
   "execution_count": 17,
   "id": "5b50b437-cf83-4469-afc2-303ac672f198",
   "metadata": {},
   "outputs": [
    {
     "data": {
      "text/html": [
       "<div>\n",
       "<style scoped>\n",
       "    .dataframe tbody tr th:only-of-type {\n",
       "        vertical-align: middle;\n",
       "    }\n",
       "\n",
       "    .dataframe tbody tr th {\n",
       "        vertical-align: top;\n",
       "    }\n",
       "\n",
       "    .dataframe thead th {\n",
       "        text-align: right;\n",
       "    }\n",
       "</style>\n",
       "<table border=\"1\" class=\"dataframe\">\n",
       "  <thead>\n",
       "    <tr style=\"text-align: right;\">\n",
       "      <th></th>\n",
       "      <th>Student</th>\n",
       "      <th>Gender</th>\n",
       "      <th>Subject</th>\n",
       "    </tr>\n",
       "  </thead>\n",
       "  <tbody>\n",
       "    <tr>\n",
       "      <th>count</th>\n",
       "      <td>100</td>\n",
       "      <td>100</td>\n",
       "      <td>100</td>\n",
       "    </tr>\n",
       "    <tr>\n",
       "      <th>unique</th>\n",
       "      <td>100</td>\n",
       "      <td>2</td>\n",
       "      <td>3</td>\n",
       "    </tr>\n",
       "    <tr>\n",
       "      <th>top</th>\n",
       "      <td>Anish</td>\n",
       "      <td>Male</td>\n",
       "      <td>Chemistry</td>\n",
       "    </tr>\n",
       "    <tr>\n",
       "      <th>freq</th>\n",
       "      <td>1</td>\n",
       "      <td>79</td>\n",
       "      <td>36</td>\n",
       "    </tr>\n",
       "  </tbody>\n",
       "</table>\n",
       "</div>"
      ],
      "text/plain": [
       "       Student Gender    Subject\n",
       "count      100    100        100\n",
       "unique     100      2          3\n",
       "top      Anish   Male  Chemistry\n",
       "freq         1     79         36"
      ]
     },
     "execution_count": 17,
     "metadata": {},
     "output_type": "execute_result"
    }
   ],
   "source": [
    "df.describe(include='object')"
   ]
  },
  {
   "cell_type": "code",
   "execution_count": 18,
   "id": "709c6c55-825f-47cd-9354-8bf535fa4b15",
   "metadata": {},
   "outputs": [
    {
     "data": {
      "text/plain": [
       "Student    0\n",
       "Score      0\n",
       "Gender     0\n",
       "Subject    0\n",
       "dtype: int64"
      ]
     },
     "execution_count": 18,
     "metadata": {},
     "output_type": "execute_result"
    }
   ],
   "source": [
    "df.isnull().sum()"
   ]
  },
  {
   "cell_type": "code",
   "execution_count": 19,
   "id": "ae6e2a2b-32c7-44a0-b20b-e7271b6ba305",
   "metadata": {},
   "outputs": [
    {
     "data": {
      "text/plain": [
       "Student  Score  Gender  Subject  \n",
       "ALOK     85     Male    English      1\n",
       "Vaibhav  98     Male    Physics      1\n",
       "jay      81     Male    Physics      1\n",
       "gokul    40     Male    Chemistry    1\n",
       "dinesh   18     Male    Physics      1\n",
       "                                    ..\n",
       "Mayank   51     Male    Physics      1\n",
       "Manoj    70     Male    English      1\n",
       "MOHIT    94     Male    Chemistry    1\n",
       "Lily     90     Female  Chemistry    1\n",
       "yash     86     Male    Physics      1\n",
       "Name: count, Length: 100, dtype: int64"
      ]
     },
     "execution_count": 19,
     "metadata": {},
     "output_type": "execute_result"
    }
   ],
   "source": [
    "df.value_counts()"
   ]
  },
  {
   "cell_type": "code",
   "execution_count": 20,
   "id": "dbc0b63f-1789-4148-a305-79bb44a6f069",
   "metadata": {},
   "outputs": [
    {
     "data": {
      "text/plain": [
       "array(['English', 'Physics', 'Chemistry'], dtype=object)"
      ]
     },
     "execution_count": 20,
     "metadata": {},
     "output_type": "execute_result"
    }
   ],
   "source": [
    "df.Subject.unique()"
   ]
  },
  {
   "cell_type": "code",
   "execution_count": 21,
   "id": "7c829ad1-5003-45a0-b84d-36f31e7cd99c",
   "metadata": {},
   "outputs": [
    {
     "data": {
      "text/plain": [
       "array(['Male', 'Female'], dtype=object)"
      ]
     },
     "execution_count": 21,
     "metadata": {},
     "output_type": "execute_result"
    }
   ],
   "source": [
    "df.Gender.unique()"
   ]
  },
  {
   "cell_type": "code",
   "execution_count": 22,
   "id": "dde28b4c-ebbe-426a-a907-1860bc149205",
   "metadata": {},
   "outputs": [
    {
     "data": {
      "text/plain": [
       "0"
      ]
     },
     "execution_count": 22,
     "metadata": {},
     "output_type": "execute_result"
    }
   ],
   "source": [
    "df.Score.min()"
   ]
  },
  {
   "cell_type": "code",
   "execution_count": 23,
   "id": "c10dc0fa-626e-47e2-b590-55cc16583172",
   "metadata": {},
   "outputs": [
    {
     "data": {
      "text/plain": [
       "100"
      ]
     },
     "execution_count": 23,
     "metadata": {},
     "output_type": "execute_result"
    }
   ],
   "source": [
    "df.Score.max()"
   ]
  },
  {
   "cell_type": "markdown",
   "id": "3fb05c55-b200-4641-b77d-e0a47e0821ea",
   "metadata": {},
   "source": [
    "### Range"
   ]
  },
  {
   "cell_type": "code",
   "execution_count": 24,
   "id": "8c65dbce-c24d-48d8-91b2-d447ba206c69",
   "metadata": {},
   "outputs": [
    {
     "data": {
      "text/plain": [
       "100"
      ]
     },
     "execution_count": 24,
     "metadata": {},
     "output_type": "execute_result"
    }
   ],
   "source": [
    "range = df.Score.max()-df.Score.min()\n",
    "range"
   ]
  },
  {
   "cell_type": "code",
   "execution_count": 25,
   "id": "3de215ed-967e-42e3-8281-2da559b4be00",
   "metadata": {},
   "outputs": [
    {
     "data": {
      "text/plain": [
       "26.344759699727064"
      ]
     },
     "execution_count": 25,
     "metadata": {},
     "output_type": "execute_result"
    }
   ],
   "source": [
    "df.Score.std()"
   ]
  },
  {
   "cell_type": "code",
   "execution_count": 26,
   "id": "d4948f7a-4d18-49a9-b3b3-a185407fde72",
   "metadata": {},
   "outputs": [
    {
     "data": {
      "text/plain": [
       "694.0463636363633"
      ]
     },
     "execution_count": 26,
     "metadata": {},
     "output_type": "execute_result"
    }
   ],
   "source": [
    "df.Score.var()"
   ]
  },
  {
   "cell_type": "markdown",
   "id": "f0d8895f-d55d-4211-9c6f-974b698b6b17",
   "metadata": {},
   "source": [
    "### Histogram"
   ]
  },
  {
   "cell_type": "code",
   "execution_count": 27,
   "id": "116cb09a-81bb-4f4b-a6c3-51e272120638",
   "metadata": {},
   "outputs": [
    {
     "data": {
      "text/plain": [
       "<Axes: >"
      ]
     },
     "execution_count": 27,
     "metadata": {},
     "output_type": "execute_result"
    },
    {
     "data": {
      "image/png": "[encoded data removed]",
      "text/plain": [
       "<Figure size 640x480 with 1 Axes>"
      ]
     },
     "metadata": {},
     "output_type": "display_data"
    }
   ],
   "source": [
    "df.Score.hist()"
   ]
  },
  {
   "cell_type": "code",
   "execution_count": 30,
   "id": "b3865e41-e2d9-4537-8c88-e8967af1f89e",
   "metadata": {},
   "outputs": [
    {
     "data": {
      "image/png": "[encoded data removed]",
      "text/plain": [
       "<Figure size 640x480 with 1 Axes>"
      ]
     },
     "metadata": {},
     "output_type": "display_data"
    }
   ],
   "source": [
    "plt.hist(df.Score, bins=8);"
   ]
  },
  {
   "cell_type": "markdown",
   "id": "8025e017-ad0e-47e7-b6f3-aa9d0c3e3406",
   "metadata": {},
   "source": [
    "### Distribution Plot"
   ]
  },
  {
   "cell_type": "code",
   "execution_count": 34,
   "id": "5415a224-24d5-44c5-a64b-d55137514e2b",
   "metadata": {},
   "outputs": [
    {
     "name": "stderr",
     "output_type": "stream",
     "text": [
      "C:\\Users\\gjithend\\AppData\\Local\\Temp\\ipykernel_48160\\525488125.py:1: UserWarning: \n",
      "\n",
      "`distplot` is a deprecated function and will be removed in seaborn v0.14.0.\n",
      "\n",
      "Please adapt your code to use either `displot` (a figure-level function with\n",
      "similar flexibility) or `histplot` (an axes-level function for histograms).\n",
      "\n",
      "For a guide to updating your code to use the new functions, please see\n",
      "https://gist.github.com/mwaskom/de44147ed2974457ad6372750bbe5751\n",
      "\n",
      "  sns.distplot(df.Score,bins=8);\n",
      "C:\\Users\\gjithend\\AppData\\Local\\anaconda3\\Lib\\site-packages\\seaborn\\_oldcore.py:1119: FutureWarning: use_inf_as_na option is deprecated and will be removed in a future version. Convert inf values to NaN before operating instead.\n",
      "  with pd.option_context('mode.use_inf_as_na', True):\n"
     ]
    },
    {
     "data": {
      "image/png": "[encoded data removed]",
      "text/plain": [
       "<Figure size 640x480 with 1 Axes>"
      ]
     },
     "metadata": {},
     "output_type": "display_data"
    }
   ],
   "source": [
    "sns.distplot(df.Score,bins=8);"
   ]
  },
  {
   "cell_type": "code",
   "execution_count": 36,
   "id": "d0716059-3038-44b6-b1d6-37f457928c20",
   "metadata": {},
   "outputs": [
    {
     "name": "stderr",
     "output_type": "stream",
     "text": [
      "C:\\Users\\gjithend\\AppData\\Local\\anaconda3\\Lib\\site-packages\\seaborn\\_oldcore.py:1119: FutureWarning: use_inf_as_na option is deprecated and will be removed in a future version. Convert inf values to NaN before operating instead.\n",
      "  with pd.option_context('mode.use_inf_as_na', True):\n"
     ]
    },
    {
     "data": {
      "image/png": "[encoded data removed]",
      "text/plain": [
       "<Figure size 640x480 with 1 Axes>"
      ]
     },
     "metadata": {},
     "output_type": "display_data"
    }
   ],
   "source": [
    "sns.kdeplot(df.Score);"
   ]
  },
  {
   "cell_type": "code",
   "execution_count": 37,
   "id": "73abd722-3eff-42e1-85b7-584b1b53afa4",
   "metadata": {},
   "outputs": [],
   "source": [
    "### Boxplot"
   ]
  },
  {
   "cell_type": "code",
   "execution_count": 46,
   "id": "9f5f71a8-e8d3-4bea-a04c-fb64720f31a6",
   "metadata": {},
   "outputs": [
    {
     "data": {
      "image/png": "[encoded data removed]",
      "text/plain": [
       "<Figure size 640x480 with 1 Axes>"
      ]
     },
     "metadata": {},
     "output_type": "display_data"
    }
   ],
   "source": [
    "plt.boxplot(df.Score,vert=False,notch=True)\n",
    "plt.show()"
   ]
  },
  {
   "cell_type": "code",
   "execution_count": 44,
   "id": "c7c7ec5c-6c78-4e6d-bd21-1dfb81d9f68b",
   "metadata": {},
   "outputs": [
    {
     "data": {
      "text/plain": [
       "<Axes: xlabel='Score'>"
      ]
     },
     "execution_count": 44,
     "metadata": {},
     "output_type": "execute_result"
    },
    {
     "data": {
      "image/png": "[encoded data removed]",
      "text/plain": [
       "<Figure size 640x480 with 1 Axes>"
      ]
     },
     "metadata": {},
     "output_type": "display_data"
    }
   ],
   "source": [
    "sns.boxplot(x=df.Score)"
   ]
  },
  {
   "cell_type": "code",
   "execution_count": 47,
   "id": "68450853-6354-45d5-ac83-4215ec04d856",
   "metadata": {},
   "outputs": [
    {
     "data": {
      "text/plain": [
       "array([  0.  ,  57.25,  77.  ,  87.25, 100.  ])"
      ]
     },
     "execution_count": 47,
     "metadata": {},
     "output_type": "execute_result"
    }
   ],
   "source": [
    "np.percentile(df.Score,[0,25,50,75,100])"
   ]
  },
  {
   "cell_type": "code",
   "execution_count": 49,
   "id": "a5071a00-2f5d-4fee-91b6-0d65f27b95c4",
   "metadata": {},
   "outputs": [
    {
     "data": {
      "text/plain": [
       "0"
      ]
     },
     "execution_count": 49,
     "metadata": {},
     "output_type": "execute_result"
    }
   ],
   "source": [
    "(df['Score']<0).sum()"
   ]
  },
  {
   "cell_type": "code",
   "execution_count": 50,
   "id": "10ee5ecf-43fd-4adf-be5f-2112450422ad",
   "metadata": {},
   "outputs": [
    {
     "data": {
      "text/plain": [
       "100"
      ]
     },
     "execution_count": 50,
     "metadata": {},
     "output_type": "execute_result"
    }
   ],
   "source": [
    "range"
   ]
  },
  {
   "cell_type": "code",
   "execution_count": 51,
   "id": "911e9c7f-d1b9-4af0-aa7b-3080559aac08",
   "metadata": {},
   "outputs": [
    {
     "data": {
      "text/plain": [
       "array([30.])"
      ]
     },
     "execution_count": 51,
     "metadata": {},
     "output_type": "execute_result"
    }
   ],
   "source": [
    "iqr = np.abs(np.percentile(df.Score,[25]) - np.percentile(df.Score,[75]))\n",
    "iqr"
   ]
  },
  {
   "cell_type": "code",
   "execution_count": 57,
   "id": "0488268a-9bcc-4e6f-9f7e-d61a7d3a4c81",
   "metadata": {},
   "outputs": [
    {
     "data": {
      "text/plain": [
       "array([132.25])"
      ]
     },
     "execution_count": 57,
     "metadata": {},
     "output_type": "execute_result"
    }
   ],
   "source": [
    "ll = np.percentile(df.Score,25) - 1.5*iqr\n",
    "ll\n",
    "\n",
    "ul = np.percentile(df.Score,75) + 1.5*iqr\n",
    "ul"
   ]
  },
  {
   "cell_type": "code",
   "execution_count": 59,
   "id": "f4503642-94d7-49c5-8320-e56047e25b6e",
   "metadata": {},
   "outputs": [
    {
     "data": {
      "text/plain": [
       "numpy.float64"
      ]
     },
     "execution_count": 59,
     "metadata": {},
     "output_type": "execute_result"
    }
   ],
   "source": [
    "type(ll[0])"
   ]
  },
  {
   "cell_type": "code",
   "execution_count": 60,
   "id": "0eeccc8a-5f94-4f57-8f15-23581f3bc690",
   "metadata": {},
   "outputs": [],
   "source": [
    "df['Score'] = np.where(df['Score']<ll[0],ll,df['Score'])\n",
    "df['Score'] = np.where(df['Score']>ul[0],ul,df['Score'])"
   ]
  },
  {
   "cell_type": "code",
   "execution_count": 61,
   "id": "07babbea-afdc-421a-85d9-d2af9a1c8170",
   "metadata": {},
   "outputs": [
    {
     "data": {
      "text/plain": [
       "0     97.00\n",
       "1     83.00\n",
       "2     78.00\n",
       "3     86.00\n",
       "4     91.00\n",
       "      ...  \n",
       "95    77.00\n",
       "96    55.00\n",
       "97    12.25\n",
       "98    73.00\n",
       "99    82.00\n",
       "Name: Score, Length: 100, dtype: float64"
      ]
     },
     "execution_count": 61,
     "metadata": {},
     "output_type": "execute_result"
    }
   ],
   "source": [
    "df.Score"
   ]
  },
  {
   "cell_type": "code",
   "execution_count": 62,
   "id": "c32202fe-2a4b-4a69-8e1f-7075a4a8ed6a",
   "metadata": {},
   "outputs": [
    {
     "data": {
      "text/plain": [
       "12.25"
      ]
     },
     "execution_count": 62,
     "metadata": {},
     "output_type": "execute_result"
    }
   ],
   "source": [
    "df.Score.min()"
   ]
  },
  {
   "cell_type": "code",
   "execution_count": 65,
   "id": "3e83a3fe-8322-4cd8-9c01-adac4a6de11c",
   "metadata": {},
   "outputs": [
    {
     "data": {
      "image/png": "[encoded data removed]",
      "text/plain": [
       "<Figure size 640x480 with 1 Axes>"
      ]
     },
     "metadata": {},
     "output_type": "display_data"
    }
   ],
   "source": [
    "plt.boxplot(df['Score'],vert=False)\n",
    "plt.show()"
   ]
  },
  {
   "cell_type": "markdown",
   "id": "08bb1fb1-e163-48ab-b82b-ce5d65d51c13",
   "metadata": {},
   "source": [
    "##  Univariant Analysis Hands On"
   ]
  },
  {
   "cell_type": "code",
   "execution_count": 70,
   "id": "d884f72e-7752-4a29-aae4-defda66c0fb7",
   "metadata": {},
   "outputs": [],
   "source": [
    "del range"
   ]
  },
  {
   "cell_type": "code",
   "execution_count": 108,
   "id": "8c19d89b-f498-40c9-a988-78428b3b1de4",
   "metadata": {},
   "outputs": [
    {
     "name": "stdout",
     "output_type": "stream",
     "text": [
      "         director                  movie_name  rating      genre  year  \\\n",
      "0    Robin Graham   Ramirez, Castro and Young     2.3  Adventure  2010   \n",
      "1  Sheryl Collier    Olson, Combs and Johnson     7.7     Action  2014   \n",
      "2     Eric Garcia                    Byrd Ltd     3.3      Drama  2000   \n",
      "3   Matthew Lopez  Gross, Maddox and Ferguson     7.7     Comedy  2006   \n",
      "4   Jessica Cohen             Mcpherson Group     7.5    Romance  2021   \n",
      "\n",
      "   duration_minutes  \n",
      "0               134  \n",
      "1               145  \n",
      "2                84  \n",
      "3               123  \n",
      "4                84  \n"
     ]
    }
   ],
   "source": [
    "from faker import Faker\n",
    "import pandas as pd\n",
    "import random\n",
    "\n",
    "# Initialize Faker instance\n",
    "fake = Faker()\n",
    "\n",
    "# Genres to choose from\n",
    "genres = ['Action', 'Comedy', 'Drama', 'Horror', 'Sci-Fi', 'Romance', 'Thriller', 'Adventure']\n",
    "\n",
    "# Generate movie dataset\n",
    "num_records = 100  # Number of movies to generate\n",
    "data = []\n",
    "\n",
    "for _ in range(num_records):\n",
    "    director = fake.name()  # Random director name\n",
    "    movie_name = fake.company()  # Random movie title (using company as movie name)\n",
    "    rating = round(random.uniform(1.0, 10.0), 1)  # Random rating between 1.0 and 10.0\n",
    "    genre = random.choice(genres)  # Random genre\n",
    "    year = random.randint(2000, 2023)  # Random release year\n",
    "    duration = random.randint(80, 180)  # Random duration between 80 and 180 minutes\n",
    "    \n",
    "    data.append({\n",
    "        'director': director,\n",
    "        'movie_name': movie_name,\n",
    "        'rating': rating,\n",
    "        'genre': genre,\n",
    "        'year': year,\n",
    "        'duration_minutes': duration\n",
    "    })\n",
    "\n",
    "# Create DataFrame\n",
    "df = pd.DataFrame(data)\n",
    "\n",
    "# Show first few rows\n",
    "print(df.head())"
   ]
  },
  {
   "cell_type": "markdown",
   "id": "4f828d7b-ce49-41f9-8ce1-d1b62885cdfc",
   "metadata": {},
   "source": [
    "###  What were the average duration and rating of all movies?"
   ]
  },
  {
   "cell_type": "code",
   "execution_count": 110,
   "id": "bebb028a-5d58-42a4-985f-82690a60a2c5",
   "metadata": {},
   "outputs": [
    {
     "data": {
      "text/plain": [
       "5.62"
      ]
     },
     "execution_count": 110,
     "metadata": {},
     "output_type": "execute_result"
    }
   ],
   "source": [
    "df.rating.mean().round(2)"
   ]
  },
  {
   "cell_type": "markdown",
   "id": "3ade323d-cd82-40ac-825a-3cf3c0986f01",
   "metadata": {},
   "source": [
    "### What were the average duration and rating of all movies in top three Genre versus movies in remaining Genre"
   ]
  },
  {
   "cell_type": "code",
   "execution_count": 111,
   "id": "4f2e5941-059a-4093-bddf-8563114d10f6",
   "metadata": {},
   "outputs": [
    {
     "data": {
      "text/plain": [
       "0      Drama\n",
       "1    Romance\n",
       "2     Comedy\n",
       "Name: genre, dtype: object"
      ]
     },
     "execution_count": 111,
     "metadata": {},
     "output_type": "execute_result"
    }
   ],
   "source": [
    "x = (df['genre'].value_counts().reset_index().sort_values('count',ascending=False)).genre[0:3]\n",
    "x"
   ]
  },
  {
   "cell_type": "code",
   "execution_count": 112,
   "id": "e2beb68c-a211-4e9a-90a3-89d6496e61dd",
   "metadata": {},
   "outputs": [
    {
     "data": {
      "text/plain": [
       "array(['Drama', 'Romance', 'Comedy'], dtype=object)"
      ]
     },
     "execution_count": 112,
     "metadata": {},
     "output_type": "execute_result"
    }
   ],
   "source": [
    "y = x.values\n",
    "y"
   ]
  },
  {
   "cell_type": "code",
   "execution_count": 113,
   "id": "69a57987-910f-4bd9-8adc-5f05a1da946f",
   "metadata": {},
   "outputs": [
    {
     "data": {
      "text/plain": [
       "numpy.ndarray"
      ]
     },
     "execution_count": 113,
     "metadata": {},
     "output_type": "execute_result"
    }
   ],
   "source": [
    "type(y)"
   ]
  },
  {
   "cell_type": "code",
   "execution_count": 114,
   "id": "fb39ede1-b14c-4e20-a167-518a2fb92d00",
   "metadata": {},
   "outputs": [
    {
     "data": {
      "text/html": [
       "<div>\n",
       "<style scoped>\n",
       "    .dataframe tbody tr th:only-of-type {\n",
       "        vertical-align: middle;\n",
       "    }\n",
       "\n",
       "    .dataframe tbody tr th {\n",
       "        vertical-align: top;\n",
       "    }\n",
       "\n",
       "    .dataframe thead th {\n",
       "        text-align: right;\n",
       "    }\n",
       "</style>\n",
       "<table border=\"1\" class=\"dataframe\">\n",
       "  <thead>\n",
       "    <tr style=\"text-align: right;\">\n",
       "      <th></th>\n",
       "      <th>director</th>\n",
       "      <th>movie_name</th>\n",
       "      <th>rating</th>\n",
       "      <th>genre</th>\n",
       "      <th>year</th>\n",
       "      <th>duration_minutes</th>\n",
       "    </tr>\n",
       "  </thead>\n",
       "  <tbody>\n",
       "    <tr>\n",
       "      <th>2</th>\n",
       "      <td>Eric Garcia</td>\n",
       "      <td>Byrd Ltd</td>\n",
       "      <td>3.3</td>\n",
       "      <td>Drama</td>\n",
       "      <td>2000</td>\n",
       "      <td>84</td>\n",
       "    </tr>\n",
       "    <tr>\n",
       "      <th>3</th>\n",
       "      <td>Matthew Lopez</td>\n",
       "      <td>Gross, Maddox and Ferguson</td>\n",
       "      <td>7.7</td>\n",
       "      <td>Comedy</td>\n",
       "      <td>2006</td>\n",
       "      <td>123</td>\n",
       "    </tr>\n",
       "    <tr>\n",
       "      <th>4</th>\n",
       "      <td>Jessica Cohen</td>\n",
       "      <td>Mcpherson Group</td>\n",
       "      <td>7.5</td>\n",
       "      <td>Romance</td>\n",
       "      <td>2021</td>\n",
       "      <td>84</td>\n",
       "    </tr>\n",
       "    <tr>\n",
       "      <th>5</th>\n",
       "      <td>Tyler Daniels</td>\n",
       "      <td>Blake-Bush</td>\n",
       "      <td>7.3</td>\n",
       "      <td>Comedy</td>\n",
       "      <td>2022</td>\n",
       "      <td>167</td>\n",
       "    </tr>\n",
       "    <tr>\n",
       "      <th>7</th>\n",
       "      <td>Timothy Mcconnell</td>\n",
       "      <td>Bishop, Ayala and Mendez</td>\n",
       "      <td>3.6</td>\n",
       "      <td>Romance</td>\n",
       "      <td>2019</td>\n",
       "      <td>142</td>\n",
       "    </tr>\n",
       "  </tbody>\n",
       "</table>\n",
       "</div>"
      ],
      "text/plain": [
       "            director                  movie_name  rating    genre  year  \\\n",
       "2        Eric Garcia                    Byrd Ltd     3.3    Drama  2000   \n",
       "3      Matthew Lopez  Gross, Maddox and Ferguson     7.7   Comedy  2006   \n",
       "4      Jessica Cohen             Mcpherson Group     7.5  Romance  2021   \n",
       "5      Tyler Daniels                  Blake-Bush     7.3   Comedy  2022   \n",
       "7  Timothy Mcconnell    Bishop, Ayala and Mendez     3.6  Romance  2019   \n",
       "\n",
       "   duration_minutes  \n",
       "2                84  \n",
       "3               123  \n",
       "4                84  \n",
       "5               167  \n",
       "7               142  "
      ]
     },
     "execution_count": 114,
     "metadata": {},
     "output_type": "execute_result"
    }
   ],
   "source": [
    "df.loc[df['genre'].isin(y)].head()"
   ]
  },
  {
   "cell_type": "code",
   "execution_count": 115,
   "id": "9cad217e-3325-47b9-8e1c-5ff6c34b6bf1",
   "metadata": {},
   "outputs": [
    {
     "data": {
      "text/html": [
       "<div>\n",
       "<style scoped>\n",
       "    .dataframe tbody tr th:only-of-type {\n",
       "        vertical-align: middle;\n",
       "    }\n",
       "\n",
       "    .dataframe tbody tr th {\n",
       "        vertical-align: top;\n",
       "    }\n",
       "\n",
       "    .dataframe thead th {\n",
       "        text-align: right;\n",
       "    }\n",
       "</style>\n",
       "<table border=\"1\" class=\"dataframe\">\n",
       "  <thead>\n",
       "    <tr style=\"text-align: right;\">\n",
       "      <th></th>\n",
       "      <th>director</th>\n",
       "      <th>movie_name</th>\n",
       "      <th>rating</th>\n",
       "      <th>genre</th>\n",
       "      <th>year</th>\n",
       "      <th>duration_minutes</th>\n",
       "      <th>t3_genre</th>\n",
       "    </tr>\n",
       "  </thead>\n",
       "  <tbody>\n",
       "    <tr>\n",
       "      <th>0</th>\n",
       "      <td>Robin Graham</td>\n",
       "      <td>Ramirez, Castro and Young</td>\n",
       "      <td>2.3</td>\n",
       "      <td>Adventure</td>\n",
       "      <td>2010</td>\n",
       "      <td>134</td>\n",
       "      <td>n</td>\n",
       "    </tr>\n",
       "    <tr>\n",
       "      <th>1</th>\n",
       "      <td>Sheryl Collier</td>\n",
       "      <td>Olson, Combs and Johnson</td>\n",
       "      <td>7.7</td>\n",
       "      <td>Action</td>\n",
       "      <td>2014</td>\n",
       "      <td>145</td>\n",
       "      <td>n</td>\n",
       "    </tr>\n",
       "    <tr>\n",
       "      <th>2</th>\n",
       "      <td>Eric Garcia</td>\n",
       "      <td>Byrd Ltd</td>\n",
       "      <td>3.3</td>\n",
       "      <td>Drama</td>\n",
       "      <td>2000</td>\n",
       "      <td>84</td>\n",
       "      <td>y</td>\n",
       "    </tr>\n",
       "    <tr>\n",
       "      <th>3</th>\n",
       "      <td>Matthew Lopez</td>\n",
       "      <td>Gross, Maddox and Ferguson</td>\n",
       "      <td>7.7</td>\n",
       "      <td>Comedy</td>\n",
       "      <td>2006</td>\n",
       "      <td>123</td>\n",
       "      <td>y</td>\n",
       "    </tr>\n",
       "    <tr>\n",
       "      <th>4</th>\n",
       "      <td>Jessica Cohen</td>\n",
       "      <td>Mcpherson Group</td>\n",
       "      <td>7.5</td>\n",
       "      <td>Romance</td>\n",
       "      <td>2021</td>\n",
       "      <td>84</td>\n",
       "      <td>y</td>\n",
       "    </tr>\n",
       "    <tr>\n",
       "      <th>...</th>\n",
       "      <td>...</td>\n",
       "      <td>...</td>\n",
       "      <td>...</td>\n",
       "      <td>...</td>\n",
       "      <td>...</td>\n",
       "      <td>...</td>\n",
       "      <td>...</td>\n",
       "    </tr>\n",
       "    <tr>\n",
       "      <th>95</th>\n",
       "      <td>Colin Gamble</td>\n",
       "      <td>Marsh-Miller</td>\n",
       "      <td>7.7</td>\n",
       "      <td>Comedy</td>\n",
       "      <td>2018</td>\n",
       "      <td>87</td>\n",
       "      <td>y</td>\n",
       "    </tr>\n",
       "    <tr>\n",
       "      <th>96</th>\n",
       "      <td>Katie Lindsey</td>\n",
       "      <td>Thompson Group</td>\n",
       "      <td>1.1</td>\n",
       "      <td>Comedy</td>\n",
       "      <td>2018</td>\n",
       "      <td>175</td>\n",
       "      <td>y</td>\n",
       "    </tr>\n",
       "    <tr>\n",
       "      <th>97</th>\n",
       "      <td>Tonya Wilkins</td>\n",
       "      <td>Campbell-Wood</td>\n",
       "      <td>8.0</td>\n",
       "      <td>Adventure</td>\n",
       "      <td>2000</td>\n",
       "      <td>116</td>\n",
       "      <td>n</td>\n",
       "    </tr>\n",
       "    <tr>\n",
       "      <th>98</th>\n",
       "      <td>Andrew Nielsen</td>\n",
       "      <td>Carlson, Schroeder and Preston</td>\n",
       "      <td>8.9</td>\n",
       "      <td>Drama</td>\n",
       "      <td>2023</td>\n",
       "      <td>116</td>\n",
       "      <td>y</td>\n",
       "    </tr>\n",
       "    <tr>\n",
       "      <th>99</th>\n",
       "      <td>Gary Kerr</td>\n",
       "      <td>Ryan-Davis</td>\n",
       "      <td>9.8</td>\n",
       "      <td>Drama</td>\n",
       "      <td>2014</td>\n",
       "      <td>89</td>\n",
       "      <td>y</td>\n",
       "    </tr>\n",
       "  </tbody>\n",
       "</table>\n",
       "<p>100 rows × 7 columns</p>\n",
       "</div>"
      ],
      "text/plain": [
       "          director                      movie_name  rating      genre  year  \\\n",
       "0     Robin Graham       Ramirez, Castro and Young     2.3  Adventure  2010   \n",
       "1   Sheryl Collier        Olson, Combs and Johnson     7.7     Action  2014   \n",
       "2      Eric Garcia                        Byrd Ltd     3.3      Drama  2000   \n",
       "3    Matthew Lopez      Gross, Maddox and Ferguson     7.7     Comedy  2006   \n",
       "4    Jessica Cohen                 Mcpherson Group     7.5    Romance  2021   \n",
       "..             ...                             ...     ...        ...   ...   \n",
       "95    Colin Gamble                    Marsh-Miller     7.7     Comedy  2018   \n",
       "96   Katie Lindsey                  Thompson Group     1.1     Comedy  2018   \n",
       "97   Tonya Wilkins                   Campbell-Wood     8.0  Adventure  2000   \n",
       "98  Andrew Nielsen  Carlson, Schroeder and Preston     8.9      Drama  2023   \n",
       "99       Gary Kerr                      Ryan-Davis     9.8      Drama  2014   \n",
       "\n",
       "    duration_minutes t3_genre  \n",
       "0                134        n  \n",
       "1                145        n  \n",
       "2                 84        y  \n",
       "3                123        y  \n",
       "4                 84        y  \n",
       "..               ...      ...  \n",
       "95                87        y  \n",
       "96               175        y  \n",
       "97               116        n  \n",
       "98               116        y  \n",
       "99                89        y  \n",
       "\n",
       "[100 rows x 7 columns]"
      ]
     },
     "execution_count": 115,
     "metadata": {},
     "output_type": "execute_result"
    }
   ],
   "source": [
    "df['t3_genre'] = np.where(df['genre'].isin(y),'y','n')\n",
    "df"
   ]
  },
  {
   "cell_type": "code",
   "execution_count": 116,
   "id": "1eaff558-b178-4a47-a8e2-0825cca9e805",
   "metadata": {},
   "outputs": [
    {
     "data": {
      "text/plain": [
       "5.740909090909091"
      ]
     },
     "execution_count": 116,
     "metadata": {},
     "output_type": "execute_result"
    }
   ],
   "source": [
    "df.loc[df['t3_genre']=='y']['rating'].mean()"
   ]
  },
  {
   "cell_type": "markdown",
   "id": "57198913-96e9-4ce0-ba89-6f6b48f82bef",
   "metadata": {},
   "source": [
    "###  Number of movies within each of top three genre's"
   ]
  },
  {
   "cell_type": "code",
   "execution_count": 117,
   "id": "b557d7cc-b3ef-4a79-9a9b-6a92797d3e24",
   "metadata": {},
   "outputs": [
    {
     "data": {
      "text/plain": [
       "genre\n",
       "Comedy     14\n",
       "Drama      15\n",
       "Romance    14\n",
       "Name: movie_name, dtype: int64"
      ]
     },
     "execution_count": 117,
     "metadata": {},
     "output_type": "execute_result"
    }
   ],
   "source": [
    "df.loc[df['t3_genre']=='y'].groupby('genre')['movie_name'].nunique()"
   ]
  },
  {
   "cell_type": "code",
   "execution_count": 121,
   "id": "6a82e6f1-60e4-475d-9259-adc3c5a133ae",
   "metadata": {},
   "outputs": [
    {
     "data": {
      "text/html": [
       "<div>\n",
       "<style scoped>\n",
       "    .dataframe tbody tr th:only-of-type {\n",
       "        vertical-align: middle;\n",
       "    }\n",
       "\n",
       "    .dataframe tbody tr th {\n",
       "        vertical-align: top;\n",
       "    }\n",
       "\n",
       "    .dataframe thead th {\n",
       "        text-align: right;\n",
       "    }\n",
       "</style>\n",
       "<table border=\"1\" class=\"dataframe\">\n",
       "  <thead>\n",
       "    <tr style=\"text-align: right;\">\n",
       "      <th></th>\n",
       "      <th>genre</th>\n",
       "      <th>duration_minutes</th>\n",
       "    </tr>\n",
       "  </thead>\n",
       "  <tbody>\n",
       "    <tr>\n",
       "      <th>2</th>\n",
       "      <td>Drama</td>\n",
       "      <td>84</td>\n",
       "    </tr>\n",
       "    <tr>\n",
       "      <th>3</th>\n",
       "      <td>Comedy</td>\n",
       "      <td>123</td>\n",
       "    </tr>\n",
       "    <tr>\n",
       "      <th>4</th>\n",
       "      <td>Romance</td>\n",
       "      <td>84</td>\n",
       "    </tr>\n",
       "    <tr>\n",
       "      <th>5</th>\n",
       "      <td>Comedy</td>\n",
       "      <td>167</td>\n",
       "    </tr>\n",
       "    <tr>\n",
       "      <th>7</th>\n",
       "      <td>Romance</td>\n",
       "      <td>142</td>\n",
       "    </tr>\n",
       "  </tbody>\n",
       "</table>\n",
       "</div>"
      ],
      "text/plain": [
       "     genre  duration_minutes\n",
       "2    Drama                84\n",
       "3   Comedy               123\n",
       "4  Romance                84\n",
       "5   Comedy               167\n",
       "7  Romance               142"
      ]
     },
     "execution_count": 121,
     "metadata": {},
     "output_type": "execute_result"
    }
   ],
   "source": [
    "df1 = df.loc[df['t3_genre']=='y',['genre','duration_minutes']]\n",
    "df1.head()"
   ]
  },
  {
   "cell_type": "code",
   "execution_count": 132,
   "id": "c4613273-080e-49d8-bb2c-a4dffeb61ca4",
   "metadata": {},
   "outputs": [
    {
     "data": {
      "text/plain": [
       "<Axes: xlabel='genre', ylabel='duration_minutes'>"
      ]
     },
     "execution_count": 132,
     "metadata": {},
     "output_type": "execute_result"
    },
    {
     "data": {
      "image/png": "[encoded data removed]",
      "text/plain": [
       "<Figure size 640x480 with 1 Axes>"
      ]
     },
     "metadata": {},
     "output_type": "display_data"
    }
   ],
   "source": [
    "sns.boxplot(x =df1['genre'] ,y=df1['duration_minutes'])"
   ]
  },
  {
   "cell_type": "code",
   "execution_count": 133,
   "id": "0bb02672-e115-4595-bd0e-3d18fd8c82c0",
   "metadata": {},
   "outputs": [
    {
     "data": {
      "text/html": [
       "<div>\n",
       "<style scoped>\n",
       "    .dataframe tbody tr th:only-of-type {\n",
       "        vertical-align: middle;\n",
       "    }\n",
       "\n",
       "    .dataframe tbody tr th {\n",
       "        vertical-align: top;\n",
       "    }\n",
       "\n",
       "    .dataframe thead th {\n",
       "        text-align: right;\n",
       "    }\n",
       "</style>\n",
       "<table border=\"1\" class=\"dataframe\">\n",
       "  <thead>\n",
       "    <tr style=\"text-align: right;\">\n",
       "      <th></th>\n",
       "      <th>director</th>\n",
       "      <th>movie_name</th>\n",
       "      <th>rating</th>\n",
       "      <th>genre</th>\n",
       "      <th>year</th>\n",
       "      <th>duration_minutes</th>\n",
       "      <th>t3_genre</th>\n",
       "    </tr>\n",
       "  </thead>\n",
       "  <tbody>\n",
       "    <tr>\n",
       "      <th>0</th>\n",
       "      <td>Robin Graham</td>\n",
       "      <td>Ramirez, Castro and Young</td>\n",
       "      <td>2.3</td>\n",
       "      <td>Adventure</td>\n",
       "      <td>2010</td>\n",
       "      <td>134</td>\n",
       "      <td>n</td>\n",
       "    </tr>\n",
       "    <tr>\n",
       "      <th>1</th>\n",
       "      <td>Sheryl Collier</td>\n",
       "      <td>Olson, Combs and Johnson</td>\n",
       "      <td>7.7</td>\n",
       "      <td>Action</td>\n",
       "      <td>2014</td>\n",
       "      <td>145</td>\n",
       "      <td>n</td>\n",
       "    </tr>\n",
       "    <tr>\n",
       "      <th>2</th>\n",
       "      <td>Eric Garcia</td>\n",
       "      <td>Byrd Ltd</td>\n",
       "      <td>3.3</td>\n",
       "      <td>Drama</td>\n",
       "      <td>2000</td>\n",
       "      <td>84</td>\n",
       "      <td>y</td>\n",
       "    </tr>\n",
       "    <tr>\n",
       "      <th>3</th>\n",
       "      <td>Matthew Lopez</td>\n",
       "      <td>Gross, Maddox and Ferguson</td>\n",
       "      <td>7.7</td>\n",
       "      <td>Comedy</td>\n",
       "      <td>2006</td>\n",
       "      <td>123</td>\n",
       "      <td>y</td>\n",
       "    </tr>\n",
       "    <tr>\n",
       "      <th>4</th>\n",
       "      <td>Jessica Cohen</td>\n",
       "      <td>Mcpherson Group</td>\n",
       "      <td>7.5</td>\n",
       "      <td>Romance</td>\n",
       "      <td>2021</td>\n",
       "      <td>84</td>\n",
       "      <td>y</td>\n",
       "    </tr>\n",
       "  </tbody>\n",
       "</table>\n",
       "</div>"
      ],
      "text/plain": [
       "         director                  movie_name  rating      genre  year  \\\n",
       "0    Robin Graham   Ramirez, Castro and Young     2.3  Adventure  2010   \n",
       "1  Sheryl Collier    Olson, Combs and Johnson     7.7     Action  2014   \n",
       "2     Eric Garcia                    Byrd Ltd     3.3      Drama  2000   \n",
       "3   Matthew Lopez  Gross, Maddox and Ferguson     7.7     Comedy  2006   \n",
       "4   Jessica Cohen             Mcpherson Group     7.5    Romance  2021   \n",
       "\n",
       "   duration_minutes t3_genre  \n",
       "0               134        n  \n",
       "1               145        n  \n",
       "2                84        y  \n",
       "3               123        y  \n",
       "4                84        y  "
      ]
     },
     "execution_count": 133,
     "metadata": {},
     "output_type": "execute_result"
    }
   ],
   "source": [
    "df.head()"
   ]
  },
  {
   "cell_type": "markdown",
   "id": "fca2a7c9-52ea-43f8-acce-e0da77803e75",
   "metadata": {},
   "source": [
    "## Bivariant Analysis"
   ]
  },
  {
   "cell_type": "code",
   "execution_count": 134,
   "id": "0636df35-3556-48bb-9204-91385e3e4c4b",
   "metadata": {},
   "outputs": [
    {
     "data": {
      "text/plain": [
       "<Axes: xlabel='duration_minutes', ylabel='rating'>"
      ]
     },
     "execution_count": 134,
     "metadata": {},
     "output_type": "execute_result"
    },
    {
     "data": {
      "image/png": "[encoded data removed]",
      "text/plain": [
       "<Figure size 640x480 with 1 Axes>"
      ]
     },
     "metadata": {},
     "output_type": "display_data"
    }
   ],
   "source": [
    "sns.scatterplot(x=df.duration_minutes,y=df.rating)"
   ]
  },
  {
   "cell_type": "code",
   "execution_count": 135,
   "id": "5f8351cb-d4b9-474f-b22b-326709d93740",
   "metadata": {},
   "outputs": [
    {
     "name": "stderr",
     "output_type": "stream",
     "text": [
      "C:\\Users\\gjithend\\AppData\\Local\\anaconda3\\Lib\\site-packages\\seaborn\\_oldcore.py:1119: FutureWarning: use_inf_as_na option is deprecated and will be removed in a future version. Convert inf values to NaN before operating instead.\n",
      "  with pd.option_context('mode.use_inf_as_na', True):\n",
      "C:\\Users\\gjithend\\AppData\\Local\\anaconda3\\Lib\\site-packages\\seaborn\\_oldcore.py:1119: FutureWarning: use_inf_as_na option is deprecated and will be removed in a future version. Convert inf values to NaN before operating instead.\n",
      "  with pd.option_context('mode.use_inf_as_na', True):\n",
      "C:\\Users\\gjithend\\AppData\\Local\\anaconda3\\Lib\\site-packages\\seaborn\\_oldcore.py:1119: FutureWarning: use_inf_as_na option is deprecated and will be removed in a future version. Convert inf values to NaN before operating instead.\n",
      "  with pd.option_context('mode.use_inf_as_na', True):\n"
     ]
    },
    {
     "data": {
      "text/plain": [
       "<seaborn.axisgrid.PairGrid at 0x24a2a239810>"
      ]
     },
     "execution_count": 135,
     "metadata": {},
     "output_type": "execute_result"
    },
    {
     "data": {
      "image/png": "[encoded data removed]",
      "text/plain": [
       "<Figure size 750x750 with 12 Axes>"
      ]
     },
     "metadata": {},
     "output_type": "display_data"
    }
   ],
   "source": [
    "sns.pairplot(df)"
   ]
  },
  {
   "cell_type": "markdown",
   "id": "9ac4970a-521c-4fe8-a7bf-4e9877ea0bf8",
   "metadata": {},
   "source": [
    "### GIT"
   ]
  },
  {
   "cell_type": "code",
   "execution_count": 142,
   "id": "28356646-21d3-4748-921e-622c8abaddd1",
   "metadata": {},
   "outputs": [
    {
     "name": "stdout",
     "output_type": "stream",
     "text": [
      "On branch main\n",
      "Your branch is ahead of 'origin/main' by 1 commit.\n",
      "  (use \"git push\" to publish your local commits)\n",
      "\n",
      "Changes not staged for commit:\n",
      "  (use \"git add <file>...\" to update what will be committed)\n",
      "  (use \"git restore <file>...\" to discard changes in working directory)\n",
      "\tmodified:   4_DS_CENTRAL_TENDENCY_MEASURES.ipynb\n",
      "\n",
      "no changes added to commit (use \"git add\" and/or \"git commit -a\")\n"
     ]
    }
   ],
   "source": [
    "!git status"
   ]
  },
  {
   "cell_type": "code",
   "execution_count": 143,
   "id": "d59216de-7b3b-41e4-bfc5-526f4bb61791",
   "metadata": {},
   "outputs": [],
   "source": [
    "!git add ."
   ]
  },
  {
   "cell_type": "code",
   "execution_count": 144,
   "id": "c20cb3e5-e7bd-402f-9155-53eb3a3cfedf",
   "metadata": {},
   "outputs": [
    {
     "name": "stdout",
     "output_type": "stream",
     "text": [
      "[main 1aade8f] adding CENTRAL_TENDENCY_MEASURES\n",
      " 1 file changed, 84 insertions(+), 2 deletions(-)\n"
     ]
    }
   ],
   "source": [
    "!git commit -m \"adding CENTRAL_TENDENCY_MEASURES\""
   ]
  },
  {
   "cell_type": "code",
   "execution_count": 145,
   "id": "4f5ccf2f-65b1-4abf-af18-95df7d38d4bf",
   "metadata": {},
   "outputs": [
    {
     "name": "stderr",
     "output_type": "stream",
     "text": [
      "To github.com:gali-jithendra/LEARNINGS.git\n",
      " ! [rejected]        main -> main (fetch first)\n",
      "error: failed to push some refs to 'github.com:gali-jithendra/LEARNINGS.git'\n",
      "hint: Updates were rejected because the remote contains work that you do not\n",
      "hint: have locally. This is usually caused by another repository pushing to\n",
      "hint: the same ref. If you want to integrate the remote changes, use\n",
      "hint: 'git pull' before pushing again.\n",
      "hint: See the 'Note about fast-forwards' in 'git push --help' for details.\n"
     ]
    }
   ],
   "source": [
    "!git push origin main"
   ]
  },
  {
   "cell_type": "code",
   "execution_count": 146,
   "id": "94869f77-fde1-420e-84e4-5c8f8b916099",
   "metadata": {},
   "outputs": [
    {
     "name": "stdout",
     "output_type": "stream",
     "text": [
      "On branch main\n",
      "Your branch is ahead of 'origin/main' by 2 commits.\n",
      "  (use \"git push\" to publish your local commits)\n",
      "\n",
      "nothing to commit, working tree clean\n"
     ]
    }
   ],
   "source": [
    "!git status"
   ]
  },
  {
   "cell_type": "code",
   "execution_count": null,
   "id": "e92cf2c3-f9e9-41c4-adad-b0651ac6b335",
   "metadata": {},
   "outputs": [],
   "source": []
  }
 ],
 "metadata": {
  "kernelspec": {
   "display_name": "Python 3 (ipykernel)",
   "language": "python",
   "name": "python3"
  },
  "language_info": {
   "codemirror_mode": {
    "name": "ipython",
    "version": 3
   },
   "file_extension": ".py",
   "mimetype": "text/x-python",
   "name": "python",
   "nbconvert_exporter": "python",
   "pygments_lexer": "ipython3",
   "version": "3.11.7"
  }
 },
 "nbformat": 4,
 "nbformat_minor": 5
}
