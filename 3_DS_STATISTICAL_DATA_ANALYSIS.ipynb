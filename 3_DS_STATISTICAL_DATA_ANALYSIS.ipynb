{
 "cells": [
  {
   "cell_type": "markdown",
   "id": "03cdbcc1-6b98-4d1d-8d5c-d7dd2259aa9e",
   "metadata": {},
   "source": [
    "## 30TH-OCT-2025"
   ]
  },
  {
   "cell_type": "markdown",
   "id": "e9d640d0-25a5-44cd-a110-fc1b0c4f4b62",
   "metadata": {},
   "source": [
    "### Visualizing data "
   ]
  },
  {
   "cell_type": "code",
   "execution_count": 30,
   "id": "ff4a00ac-157b-45a8-9c46-f0c9f847333b",
   "metadata": {},
   "outputs": [],
   "source": [
    "import numpy as np\n",
    "import pandas as pd\n",
    "import matplotlib.pyplot as plt\n",
    "import seaborn as sns"
   ]
  },
  {
   "cell_type": "code",
   "execution_count": 3,
   "id": "d34b9f57-1c81-4389-8032-19da0415b762",
   "metadata": {},
   "outputs": [
    {
     "data": {
      "text/html": [
       "<div>\n",
       "<style scoped>\n",
       "    .dataframe tbody tr th:only-of-type {\n",
       "        vertical-align: middle;\n",
       "    }\n",
       "\n",
       "    .dataframe tbody tr th {\n",
       "        vertical-align: top;\n",
       "    }\n",
       "\n",
       "    .dataframe thead th {\n",
       "        text-align: right;\n",
       "    }\n",
       "</style>\n",
       "<table border=\"1\" class=\"dataframe\">\n",
       "  <thead>\n",
       "    <tr style=\"text-align: right;\">\n",
       "      <th></th>\n",
       "      <th>name</th>\n",
       "      <th>address</th>\n",
       "      <th>email</th>\n",
       "      <th>birthdate</th>\n",
       "      <th>salary</th>\n",
       "    </tr>\n",
       "  </thead>\n",
       "  <tbody>\n",
       "    <tr>\n",
       "      <th>0</th>\n",
       "      <td>Anna Scott</td>\n",
       "      <td>843 Jones Groves\\nNew Lisa, AR 79161</td>\n",
       "      <td>acantrell@example.net</td>\n",
       "      <td>1926-07-12</td>\n",
       "      <td>43457</td>\n",
       "    </tr>\n",
       "    <tr>\n",
       "      <th>1</th>\n",
       "      <td>Brent Jones</td>\n",
       "      <td>Unit 9670 Box 6255\\nDPO AE 80044</td>\n",
       "      <td>andres52@example.net</td>\n",
       "      <td>1915-08-05</td>\n",
       "      <td>115037</td>\n",
       "    </tr>\n",
       "    <tr>\n",
       "      <th>2</th>\n",
       "      <td>Christina Baker</td>\n",
       "      <td>95320 Nolan Landing Suite 475\\nBeckerbury, WV ...</td>\n",
       "      <td>cheryl75@example.net</td>\n",
       "      <td>2015-12-02</td>\n",
       "      <td>70827</td>\n",
       "    </tr>\n",
       "    <tr>\n",
       "      <th>3</th>\n",
       "      <td>Mrs. Tammy Anderson</td>\n",
       "      <td>7057 Matthew Union Suite 792\\nKimberlyburgh, M...</td>\n",
       "      <td>rzimmerman@example.org</td>\n",
       "      <td>1981-02-03</td>\n",
       "      <td>67945</td>\n",
       "    </tr>\n",
       "    <tr>\n",
       "      <th>4</th>\n",
       "      <td>Mr. Brent Anderson</td>\n",
       "      <td>122 Tara Well Suite 369\\nJuanfurt, NH 12314</td>\n",
       "      <td>johnsontammy@example.org</td>\n",
       "      <td>1915-07-14</td>\n",
       "      <td>102962</td>\n",
       "    </tr>\n",
       "  </tbody>\n",
       "</table>\n",
       "</div>"
      ],
      "text/plain": [
       "                  name                                            address  \\\n",
       "0           Anna Scott               843 Jones Groves\\nNew Lisa, AR 79161   \n",
       "1          Brent Jones                   Unit 9670 Box 6255\\nDPO AE 80044   \n",
       "2      Christina Baker  95320 Nolan Landing Suite 475\\nBeckerbury, WV ...   \n",
       "3  Mrs. Tammy Anderson  7057 Matthew Union Suite 792\\nKimberlyburgh, M...   \n",
       "4   Mr. Brent Anderson        122 Tara Well Suite 369\\nJuanfurt, NH 12314   \n",
       "\n",
       "                      email   birthdate  salary  \n",
       "0     acantrell@example.net  1926-07-12   43457  \n",
       "1      andres52@example.net  1915-08-05  115037  \n",
       "2      cheryl75@example.net  2015-12-02   70827  \n",
       "3    rzimmerman@example.org  1981-02-03   67945  \n",
       "4  johnsontammy@example.org  1915-07-14  102962  "
      ]
     },
     "execution_count": 3,
     "metadata": {},
     "output_type": "execute_result"
    }
   ],
   "source": [
    "from faker import Faker\n",
    "import pandas as pd\n",
    "import numpy as np\n",
    "\n",
    "fake = Faker()\n",
    "\n",
    "# Generate a list of dictionaries with fake data\n",
    "data = [{\n",
    "    'name': fake.name(),\n",
    "    'address': fake.address(),\n",
    "    'email': fake.email(),\n",
    "    'birthdate': fake.date_of_birth(),\n",
    "    'salary': np.random.randint(30000, 120000)\n",
    "} for _ in range(100)]\n",
    "\n",
    "df = pd.DataFrame(data)\n",
    "df.head()"
   ]
  },
  {
   "cell_type": "code",
   "execution_count": 4,
   "id": "e40d67b9-6335-4b0a-8bc0-45c0bd7abd3e",
   "metadata": {},
   "outputs": [
    {
     "data": {
      "text/html": [
       "<div>\n",
       "<style scoped>\n",
       "    .dataframe tbody tr th:only-of-type {\n",
       "        vertical-align: middle;\n",
       "    }\n",
       "\n",
       "    .dataframe tbody tr th {\n",
       "        vertical-align: top;\n",
       "    }\n",
       "\n",
       "    .dataframe thead th {\n",
       "        text-align: right;\n",
       "    }\n",
       "</style>\n",
       "<table border=\"1\" class=\"dataframe\">\n",
       "  <thead>\n",
       "    <tr style=\"text-align: right;\">\n",
       "      <th></th>\n",
       "      <th>director</th>\n",
       "      <th>movie_name</th>\n",
       "      <th>rating</th>\n",
       "      <th>genre</th>\n",
       "      <th>year</th>\n",
       "    </tr>\n",
       "  </thead>\n",
       "  <tbody>\n",
       "    <tr>\n",
       "      <th>0</th>\n",
       "      <td>April Shepard</td>\n",
       "      <td>Rhodes, Sanchez and Jordan</td>\n",
       "      <td>6.5</td>\n",
       "      <td>Adventure</td>\n",
       "      <td>2008</td>\n",
       "    </tr>\n",
       "    <tr>\n",
       "      <th>1</th>\n",
       "      <td>Elizabeth Castro</td>\n",
       "      <td>Smith-Solomon</td>\n",
       "      <td>6.8</td>\n",
       "      <td>Adventure</td>\n",
       "      <td>2019</td>\n",
       "    </tr>\n",
       "    <tr>\n",
       "      <th>2</th>\n",
       "      <td>Emily Fisher</td>\n",
       "      <td>Gordon-Obrien</td>\n",
       "      <td>9.0</td>\n",
       "      <td>Thriller</td>\n",
       "      <td>2023</td>\n",
       "    </tr>\n",
       "    <tr>\n",
       "      <th>3</th>\n",
       "      <td>Derek Rodriguez</td>\n",
       "      <td>Johnson-Carpenter</td>\n",
       "      <td>9.3</td>\n",
       "      <td>Adventure</td>\n",
       "      <td>2010</td>\n",
       "    </tr>\n",
       "    <tr>\n",
       "      <th>4</th>\n",
       "      <td>John Fisher</td>\n",
       "      <td>Brown-Johnson</td>\n",
       "      <td>2.6</td>\n",
       "      <td>Romance</td>\n",
       "      <td>2020</td>\n",
       "    </tr>\n",
       "  </tbody>\n",
       "</table>\n",
       "</div>"
      ],
      "text/plain": [
       "           director                  movie_name  rating      genre  year\n",
       "0     April Shepard  Rhodes, Sanchez and Jordan     6.5  Adventure  2008\n",
       "1  Elizabeth Castro               Smith-Solomon     6.8  Adventure  2019\n",
       "2      Emily Fisher               Gordon-Obrien     9.0   Thriller  2023\n",
       "3   Derek Rodriguez           Johnson-Carpenter     9.3  Adventure  2010\n",
       "4       John Fisher               Brown-Johnson     2.6    Romance  2020"
      ]
     },
     "execution_count": 4,
     "metadata": {},
     "output_type": "execute_result"
    }
   ],
   "source": [
    "from faker import Faker\n",
    "import pandas as pd\n",
    "import random\n",
    "\n",
    "# Initialize Faker instance\n",
    "fake = Faker()\n",
    "\n",
    "# Genres to choose from\n",
    "genres = ['Action', 'Comedy', 'Drama', 'Horror', 'Sci-Fi', 'Romance', 'Thriller', 'Adventure']\n",
    "\n",
    "# Generate movie dataset\n",
    "num_records = 100  # Number of movies to generate\n",
    "data = []\n",
    "\n",
    "for _ in range(num_records):\n",
    "    director = fake.name()  # Random director name\n",
    "    movie_name = fake.company()  # Random movie title (using company as movie name)\n",
    "    rating = round(random.uniform(1.0, 10.0), 1)  # Random rating between 1.0 and 10.0\n",
    "    genre = random.choice(genres)  # Random genre from the list\n",
    "    year = random.randint(2000, 2023)  # Random year between 2000 and 2023\n",
    "    \n",
    "    data.append({\n",
    "        'director': director,\n",
    "        'movie_name': movie_name,\n",
    "        'rating': rating,\n",
    "        'genre': genre,\n",
    "        'year': year\n",
    "    })\n",
    "\n",
    "# Create DataFrame\n",
    "df = pd.DataFrame(data)\n",
    "\n",
    "# Show first few rows\n",
    "df.head()"
   ]
  },
  {
   "cell_type": "code",
   "execution_count": 5,
   "id": "00357902-0386-4b5b-95c6-6fbdbd308503",
   "metadata": {},
   "outputs": [
    {
     "data": {
      "text/plain": [
       "(100, 5)"
      ]
     },
     "execution_count": 5,
     "metadata": {},
     "output_type": "execute_result"
    }
   ],
   "source": [
    "df.shape"
   ]
  },
  {
   "cell_type": "code",
   "execution_count": 6,
   "id": "ec93cd2a-4803-4481-b6c2-eb33202d200d",
   "metadata": {},
   "outputs": [
    {
     "data": {
      "text/plain": [
       "Index(['director', 'movie_name', 'rating', 'genre', 'year'], dtype='object')"
      ]
     },
     "execution_count": 6,
     "metadata": {},
     "output_type": "execute_result"
    }
   ],
   "source": [
    "df.columns"
   ]
  },
  {
   "cell_type": "code",
   "execution_count": 8,
   "id": "3779baa5-5227-4158-b814-5088d6c3489d",
   "metadata": {},
   "outputs": [
    {
     "data": {
      "text/plain": [
       "director       object\n",
       "movie_name     object\n",
       "rating        float64\n",
       "genre          object\n",
       "year            int64\n",
       "dtype: object"
      ]
     },
     "execution_count": 8,
     "metadata": {},
     "output_type": "execute_result"
    }
   ],
   "source": [
    "df.dtypes"
   ]
  },
  {
   "cell_type": "code",
   "execution_count": 9,
   "id": "49d066ed-a27e-4337-9447-01cc9c7c4b8d",
   "metadata": {},
   "outputs": [
    {
     "data": {
      "text/plain": [
       "director      0\n",
       "movie_name    0\n",
       "rating        0\n",
       "genre         0\n",
       "year          0\n",
       "dtype: int64"
      ]
     },
     "execution_count": 9,
     "metadata": {},
     "output_type": "execute_result"
    }
   ],
   "source": [
    "df.isnull().sum()"
   ]
  },
  {
   "cell_type": "code",
   "execution_count": 10,
   "id": "f3d73a71-f375-480e-8982-0b033801db73",
   "metadata": {},
   "outputs": [
    {
     "name": "stdout",
     "output_type": "stream",
     "text": [
      "<class 'pandas.core.frame.DataFrame'>\n",
      "RangeIndex: 100 entries, 0 to 99\n",
      "Data columns (total 5 columns):\n",
      " #   Column      Non-Null Count  Dtype  \n",
      "---  ------      --------------  -----  \n",
      " 0   director    100 non-null    object \n",
      " 1   movie_name  100 non-null    object \n",
      " 2   rating      100 non-null    float64\n",
      " 3   genre       100 non-null    object \n",
      " 4   year        100 non-null    int64  \n",
      "dtypes: float64(1), int64(1), object(3)\n",
      "memory usage: 4.0+ KB\n"
     ]
    }
   ],
   "source": [
    "df.info()"
   ]
  },
  {
   "cell_type": "code",
   "execution_count": 12,
   "id": "b8e0d9af-0400-41fe-a29a-729a13fb15e3",
   "metadata": {},
   "outputs": [
    {
     "data": {
      "text/html": [
       "<div>\n",
       "<style scoped>\n",
       "    .dataframe tbody tr th:only-of-type {\n",
       "        vertical-align: middle;\n",
       "    }\n",
       "\n",
       "    .dataframe tbody tr th {\n",
       "        vertical-align: top;\n",
       "    }\n",
       "\n",
       "    .dataframe thead th {\n",
       "        text-align: right;\n",
       "    }\n",
       "</style>\n",
       "<table border=\"1\" class=\"dataframe\">\n",
       "  <thead>\n",
       "    <tr style=\"text-align: right;\">\n",
       "      <th></th>\n",
       "      <th>rating</th>\n",
       "      <th>year</th>\n",
       "    </tr>\n",
       "  </thead>\n",
       "  <tbody>\n",
       "    <tr>\n",
       "      <th>count</th>\n",
       "      <td>100.000000</td>\n",
       "      <td>100.000000</td>\n",
       "    </tr>\n",
       "    <tr>\n",
       "      <th>mean</th>\n",
       "      <td>5.497000</td>\n",
       "      <td>2010.490000</td>\n",
       "    </tr>\n",
       "    <tr>\n",
       "      <th>std</th>\n",
       "      <td>2.603745</td>\n",
       "      <td>7.340898</td>\n",
       "    </tr>\n",
       "    <tr>\n",
       "      <th>min</th>\n",
       "      <td>1.000000</td>\n",
       "      <td>2000.000000</td>\n",
       "    </tr>\n",
       "    <tr>\n",
       "      <th>25%</th>\n",
       "      <td>3.300000</td>\n",
       "      <td>2004.000000</td>\n",
       "    </tr>\n",
       "    <tr>\n",
       "      <th>50%</th>\n",
       "      <td>5.600000</td>\n",
       "      <td>2010.000000</td>\n",
       "    </tr>\n",
       "    <tr>\n",
       "      <th>75%</th>\n",
       "      <td>7.900000</td>\n",
       "      <td>2017.000000</td>\n",
       "    </tr>\n",
       "    <tr>\n",
       "      <th>max</th>\n",
       "      <td>10.000000</td>\n",
       "      <td>2023.000000</td>\n",
       "    </tr>\n",
       "  </tbody>\n",
       "</table>\n",
       "</div>"
      ],
      "text/plain": [
       "           rating         year\n",
       "count  100.000000   100.000000\n",
       "mean     5.497000  2010.490000\n",
       "std      2.603745     7.340898\n",
       "min      1.000000  2000.000000\n",
       "25%      3.300000  2004.000000\n",
       "50%      5.600000  2010.000000\n",
       "75%      7.900000  2017.000000\n",
       "max     10.000000  2023.000000"
      ]
     },
     "execution_count": 12,
     "metadata": {},
     "output_type": "execute_result"
    }
   ],
   "source": [
    "df.describe()"
   ]
  },
  {
   "cell_type": "code",
   "execution_count": 14,
   "id": "a05b8cf3-abcd-473b-9dc0-1f05f1cef41b",
   "metadata": {},
   "outputs": [
    {
     "data": {
      "text/html": [
       "<div>\n",
       "<style scoped>\n",
       "    .dataframe tbody tr th:only-of-type {\n",
       "        vertical-align: middle;\n",
       "    }\n",
       "\n",
       "    .dataframe tbody tr th {\n",
       "        vertical-align: top;\n",
       "    }\n",
       "\n",
       "    .dataframe thead th {\n",
       "        text-align: right;\n",
       "    }\n",
       "</style>\n",
       "<table border=\"1\" class=\"dataframe\">\n",
       "  <thead>\n",
       "    <tr style=\"text-align: right;\">\n",
       "      <th></th>\n",
       "      <th>director</th>\n",
       "      <th>movie_name</th>\n",
       "      <th>genre</th>\n",
       "    </tr>\n",
       "  </thead>\n",
       "  <tbody>\n",
       "    <tr>\n",
       "      <th>count</th>\n",
       "      <td>100</td>\n",
       "      <td>100</td>\n",
       "      <td>100</td>\n",
       "    </tr>\n",
       "    <tr>\n",
       "      <th>unique</th>\n",
       "      <td>100</td>\n",
       "      <td>100</td>\n",
       "      <td>8</td>\n",
       "    </tr>\n",
       "    <tr>\n",
       "      <th>top</th>\n",
       "      <td>April Shepard</td>\n",
       "      <td>Rhodes, Sanchez and Jordan</td>\n",
       "      <td>Horror</td>\n",
       "    </tr>\n",
       "    <tr>\n",
       "      <th>freq</th>\n",
       "      <td>1</td>\n",
       "      <td>1</td>\n",
       "      <td>18</td>\n",
       "    </tr>\n",
       "  </tbody>\n",
       "</table>\n",
       "</div>"
      ],
      "text/plain": [
       "             director                  movie_name   genre\n",
       "count             100                         100     100\n",
       "unique            100                         100       8\n",
       "top     April Shepard  Rhodes, Sanchez and Jordan  Horror\n",
       "freq                1                           1      18"
      ]
     },
     "execution_count": 14,
     "metadata": {},
     "output_type": "execute_result"
    }
   ],
   "source": [
    "df.describe(include='object')"
   ]
  },
  {
   "cell_type": "markdown",
   "id": "d14d5c8c-8b2d-41f0-a7ee-d0dd41414e8c",
   "metadata": {},
   "source": [
    "###  How many movies are produced each year?"
   ]
  },
  {
   "cell_type": "code",
   "execution_count": 15,
   "id": "81fbb389-7bc3-4b7e-9ff8-191cfe3aa843",
   "metadata": {},
   "outputs": [
    {
     "data": {
      "text/plain": [
       "year\n",
       "2017    7\n",
       "2023    7\n",
       "2000    7\n",
       "2002    6\n",
       "2019    6\n",
       "2003    6\n",
       "2004    6\n",
       "2013    5\n",
       "2001    5\n",
       "2011    4\n",
       "2005    4\n",
       "2015    4\n",
       "2006    4\n",
       "2009    4\n",
       "2010    4\n",
       "2016    4\n",
       "2007    3\n",
       "2008    3\n",
       "2018    3\n",
       "2022    3\n",
       "2020    2\n",
       "2012    2\n",
       "2014    1\n",
       "Name: count, dtype: int64"
      ]
     },
     "execution_count": 15,
     "metadata": {},
     "output_type": "execute_result"
    }
   ],
   "source": [
    "df.year.value_counts()"
   ]
  },
  {
   "cell_type": "code",
   "execution_count": 16,
   "id": "5b903332-36de-46f9-bd4b-a5b45f9a8d32",
   "metadata": {},
   "outputs": [
    {
     "data": {
      "text/plain": [
       "year\n",
       "2000    7\n",
       "2001    5\n",
       "2002    6\n",
       "2003    6\n",
       "2004    6\n",
       "2005    4\n",
       "2006    4\n",
       "2007    3\n",
       "2008    3\n",
       "2009    4\n",
       "2010    4\n",
       "2011    4\n",
       "2012    2\n",
       "2013    5\n",
       "2014    1\n",
       "2015    4\n",
       "2016    4\n",
       "2017    7\n",
       "2018    3\n",
       "2019    6\n",
       "2020    2\n",
       "2022    3\n",
       "2023    7\n",
       "Name: count, dtype: int64"
      ]
     },
     "execution_count": 16,
     "metadata": {},
     "output_type": "execute_result"
    }
   ],
   "source": [
    "df.year.value_counts().sort_index()"
   ]
  },
  {
   "cell_type": "code",
   "execution_count": 20,
   "id": "08aa86e2-de33-4b96-8b71-dba0434424ce",
   "metadata": {},
   "outputs": [
    {
     "data": {
      "text/plain": [
       "year\n",
       "2000    7\n",
       "2001    5\n",
       "2002    6\n",
       "2003    6\n",
       "2004    6\n",
       "2005    4\n",
       "2006    4\n",
       "2007    3\n",
       "2008    3\n",
       "2009    4\n",
       "2010    4\n",
       "2011    4\n",
       "2012    2\n",
       "2013    5\n",
       "2014    1\n",
       "2015    4\n",
       "2016    4\n",
       "2017    7\n",
       "2018    3\n",
       "2019    6\n",
       "2020    2\n",
       "2022    3\n",
       "2023    7\n",
       "Name: movie_name, dtype: int64"
      ]
     },
     "execution_count": 20,
     "metadata": {},
     "output_type": "execute_result"
    }
   ],
   "source": [
    "df.groupby('year')['movie_name'].nunique()"
   ]
  },
  {
   "cell_type": "markdown",
   "id": "9bae66f1-e336-4214-8c1b-be1786d612c1",
   "metadata": {},
   "source": [
    "###  The top directors in terms of most movies?"
   ]
  },
  {
   "cell_type": "code",
   "execution_count": 24,
   "id": "a81af589-6567-4b26-bf0e-1150ad245f93",
   "metadata": {},
   "outputs": [
    {
     "data": {
      "text/html": [
       "<div>\n",
       "<style scoped>\n",
       "    .dataframe tbody tr th:only-of-type {\n",
       "        vertical-align: middle;\n",
       "    }\n",
       "\n",
       "    .dataframe tbody tr th {\n",
       "        vertical-align: top;\n",
       "    }\n",
       "\n",
       "    .dataframe thead th {\n",
       "        text-align: right;\n",
       "    }\n",
       "</style>\n",
       "<table border=\"1\" class=\"dataframe\">\n",
       "  <thead>\n",
       "    <tr style=\"text-align: right;\">\n",
       "      <th></th>\n",
       "      <th>director</th>\n",
       "      <th>movie_name</th>\n",
       "    </tr>\n",
       "  </thead>\n",
       "  <tbody>\n",
       "    <tr>\n",
       "      <th>0</th>\n",
       "      <td>Alex Davidson</td>\n",
       "      <td>1</td>\n",
       "    </tr>\n",
       "    <tr>\n",
       "      <th>72</th>\n",
       "      <td>Misty Henderson</td>\n",
       "      <td>1</td>\n",
       "    </tr>\n",
       "    <tr>\n",
       "      <th>71</th>\n",
       "      <td>Michelle Wagner</td>\n",
       "      <td>1</td>\n",
       "    </tr>\n",
       "    <tr>\n",
       "      <th>70</th>\n",
       "      <td>Michelle Johnson</td>\n",
       "      <td>1</td>\n",
       "    </tr>\n",
       "    <tr>\n",
       "      <th>69</th>\n",
       "      <td>Michelle Archer</td>\n",
       "      <td>1</td>\n",
       "    </tr>\n",
       "    <tr>\n",
       "      <th>...</th>\n",
       "      <td>...</td>\n",
       "      <td>...</td>\n",
       "    </tr>\n",
       "    <tr>\n",
       "      <th>28</th>\n",
       "      <td>David Gates</td>\n",
       "      <td>1</td>\n",
       "    </tr>\n",
       "    <tr>\n",
       "      <th>27</th>\n",
       "      <td>Dana Grant</td>\n",
       "      <td>1</td>\n",
       "    </tr>\n",
       "    <tr>\n",
       "      <th>26</th>\n",
       "      <td>Crystal Williams</td>\n",
       "      <td>1</td>\n",
       "    </tr>\n",
       "    <tr>\n",
       "      <th>36</th>\n",
       "      <td>Elizabeth Calhoun</td>\n",
       "      <td>1</td>\n",
       "    </tr>\n",
       "    <tr>\n",
       "      <th>99</th>\n",
       "      <td>Zachary Stone</td>\n",
       "      <td>1</td>\n",
       "    </tr>\n",
       "  </tbody>\n",
       "</table>\n",
       "<p>100 rows × 2 columns</p>\n",
       "</div>"
      ],
      "text/plain": [
       "             director  movie_name\n",
       "0       Alex Davidson           1\n",
       "72    Misty Henderson           1\n",
       "71    Michelle Wagner           1\n",
       "70   Michelle Johnson           1\n",
       "69    Michelle Archer           1\n",
       "..                ...         ...\n",
       "28        David Gates           1\n",
       "27         Dana Grant           1\n",
       "26   Crystal Williams           1\n",
       "36  Elizabeth Calhoun           1\n",
       "99      Zachary Stone           1\n",
       "\n",
       "[100 rows x 2 columns]"
      ]
     },
     "execution_count": 24,
     "metadata": {},
     "output_type": "execute_result"
    }
   ],
   "source": [
    "df.groupby('director')['movie_name'].nunique().reset_index().sort_values('movie_name')"
   ]
  },
  {
   "cell_type": "code",
   "execution_count": 25,
   "id": "4d90f428-5573-4b25-8bef-7bc1825a5130",
   "metadata": {},
   "outputs": [
    {
     "data": {
      "text/plain": [
       "director\n",
       "April Shepard       1\n",
       "Ruben Mitchell      1\n",
       "Ross Martin         1\n",
       "Kevin Gutierrez     1\n",
       "Timothy Le          1\n",
       "                   ..\n",
       "Carrie Compton      1\n",
       "Andrew Hoffman      1\n",
       "Dr. Aaron Haynes    1\n",
       "Stephen Avila       1\n",
       "Bonnie Scott        1\n",
       "Name: count, Length: 100, dtype: int64"
      ]
     },
     "execution_count": 25,
     "metadata": {},
     "output_type": "execute_result"
    }
   ],
   "source": [
    "df.director.value_counts()"
   ]
  },
  {
   "cell_type": "markdown",
   "id": "22e6ed58-ff4c-4f39-9d62-75293a111df2",
   "metadata": {},
   "source": [
    "## Charts"
   ]
  },
  {
   "cell_type": "markdown",
   "id": "3a9e7213-e857-45aa-a959-f4e0b9d22997",
   "metadata": {},
   "source": [
    "### Line chart"
   ]
  },
  {
   "cell_type": "code",
   "execution_count": 31,
   "id": "10dc5a3e-18a5-46d3-b096-0447fa2dec95",
   "metadata": {},
   "outputs": [
    {
     "data": {
      "text/plain": [
       "year\n",
       "2000    7\n",
       "2001    5\n",
       "2002    6\n",
       "2003    6\n",
       "2004    6\n",
       "2005    4\n",
       "2006    4\n",
       "2007    3\n",
       "2008    3\n",
       "2009    4\n",
       "2010    4\n",
       "2011    4\n",
       "2012    2\n",
       "2013    5\n",
       "2014    1\n",
       "2015    4\n",
       "2016    4\n",
       "2017    7\n",
       "2018    3\n",
       "2019    6\n",
       "2020    2\n",
       "2022    3\n",
       "2023    7\n",
       "Name: count, dtype: int64"
      ]
     },
     "execution_count": 31,
     "metadata": {},
     "output_type": "execute_result"
    }
   ],
   "source": [
    "a = df.year.value_counts().sort_index()\n",
    "a"
   ]
  },
  {
   "cell_type": "code",
   "execution_count": 39,
   "id": "50777dab-0c50-42ff-91dd-67c149ae1844",
   "metadata": {},
   "outputs": [
    {
     "data": {
      "image/png": "[encoded data removed]",
      "text/plain": [
       "<Figure size 1500x500 with 1 Axes>"
      ]
     },
     "metadata": {},
     "output_type": "display_data"
    }
   ],
   "source": [
    "plt.figure(figsize=(15,5))\n",
    "plt.plot(a)\n",
    "plt.xticks(a.index)\n",
    "plt.xticks(rotation=90)\n",
    "plt.ylim(bottom=0,top=7)\n",
    "plt.title(\"Number of movies launched each year\")\n",
    "plt.show()"
   ]
  },
  {
   "cell_type": "code",
   "execution_count": 40,
   "id": "5ba6e355-1720-42af-9056-600d36916ea3",
   "metadata": {},
   "outputs": [
    {
     "data": {
      "text/html": [
       "<div>\n",
       "<style scoped>\n",
       "    .dataframe tbody tr th:only-of-type {\n",
       "        vertical-align: middle;\n",
       "    }\n",
       "\n",
       "    .dataframe tbody tr th {\n",
       "        vertical-align: top;\n",
       "    }\n",
       "\n",
       "    .dataframe thead th {\n",
       "        text-align: right;\n",
       "    }\n",
       "</style>\n",
       "<table border=\"1\" class=\"dataframe\">\n",
       "  <thead>\n",
       "    <tr style=\"text-align: right;\">\n",
       "      <th></th>\n",
       "      <th>director</th>\n",
       "      <th>movie_name</th>\n",
       "      <th>rating</th>\n",
       "      <th>genre</th>\n",
       "      <th>year</th>\n",
       "    </tr>\n",
       "  </thead>\n",
       "  <tbody>\n",
       "    <tr>\n",
       "      <th>0</th>\n",
       "      <td>April Shepard</td>\n",
       "      <td>Rhodes, Sanchez and Jordan</td>\n",
       "      <td>6.5</td>\n",
       "      <td>Adventure</td>\n",
       "      <td>2008</td>\n",
       "    </tr>\n",
       "    <tr>\n",
       "      <th>1</th>\n",
       "      <td>Elizabeth Castro</td>\n",
       "      <td>Smith-Solomon</td>\n",
       "      <td>6.8</td>\n",
       "      <td>Adventure</td>\n",
       "      <td>2019</td>\n",
       "    </tr>\n",
       "    <tr>\n",
       "      <th>2</th>\n",
       "      <td>Emily Fisher</td>\n",
       "      <td>Gordon-Obrien</td>\n",
       "      <td>9.0</td>\n",
       "      <td>Thriller</td>\n",
       "      <td>2023</td>\n",
       "    </tr>\n",
       "    <tr>\n",
       "      <th>3</th>\n",
       "      <td>Derek Rodriguez</td>\n",
       "      <td>Johnson-Carpenter</td>\n",
       "      <td>9.3</td>\n",
       "      <td>Adventure</td>\n",
       "      <td>2010</td>\n",
       "    </tr>\n",
       "    <tr>\n",
       "      <th>4</th>\n",
       "      <td>John Fisher</td>\n",
       "      <td>Brown-Johnson</td>\n",
       "      <td>2.6</td>\n",
       "      <td>Romance</td>\n",
       "      <td>2020</td>\n",
       "    </tr>\n",
       "    <tr>\n",
       "      <th>...</th>\n",
       "      <td>...</td>\n",
       "      <td>...</td>\n",
       "      <td>...</td>\n",
       "      <td>...</td>\n",
       "      <td>...</td>\n",
       "    </tr>\n",
       "    <tr>\n",
       "      <th>95</th>\n",
       "      <td>Elizabeth Calhoun</td>\n",
       "      <td>Costa Inc</td>\n",
       "      <td>6.3</td>\n",
       "      <td>Drama</td>\n",
       "      <td>2013</td>\n",
       "    </tr>\n",
       "    <tr>\n",
       "      <th>96</th>\n",
       "      <td>David Peterson</td>\n",
       "      <td>Johnson Inc</td>\n",
       "      <td>3.8</td>\n",
       "      <td>Drama</td>\n",
       "      <td>2000</td>\n",
       "    </tr>\n",
       "    <tr>\n",
       "      <th>97</th>\n",
       "      <td>Cindy Bolton</td>\n",
       "      <td>Turner Group</td>\n",
       "      <td>2.2</td>\n",
       "      <td>Sci-Fi</td>\n",
       "      <td>2013</td>\n",
       "    </tr>\n",
       "    <tr>\n",
       "      <th>98</th>\n",
       "      <td>Michelle Johnson</td>\n",
       "      <td>Brown Ltd</td>\n",
       "      <td>9.2</td>\n",
       "      <td>Action</td>\n",
       "      <td>2009</td>\n",
       "    </tr>\n",
       "    <tr>\n",
       "      <th>99</th>\n",
       "      <td>Bonnie Scott</td>\n",
       "      <td>Hensley, Gaines and Benton</td>\n",
       "      <td>9.1</td>\n",
       "      <td>Sci-Fi</td>\n",
       "      <td>2005</td>\n",
       "    </tr>\n",
       "  </tbody>\n",
       "</table>\n",
       "<p>100 rows × 5 columns</p>\n",
       "</div>"
      ],
      "text/plain": [
       "             director                  movie_name  rating      genre  year\n",
       "0       April Shepard  Rhodes, Sanchez and Jordan     6.5  Adventure  2008\n",
       "1    Elizabeth Castro               Smith-Solomon     6.8  Adventure  2019\n",
       "2        Emily Fisher               Gordon-Obrien     9.0   Thriller  2023\n",
       "3     Derek Rodriguez           Johnson-Carpenter     9.3  Adventure  2010\n",
       "4         John Fisher               Brown-Johnson     2.6    Romance  2020\n",
       "..                ...                         ...     ...        ...   ...\n",
       "95  Elizabeth Calhoun                   Costa Inc     6.3      Drama  2013\n",
       "96     David Peterson                 Johnson Inc     3.8      Drama  2000\n",
       "97       Cindy Bolton                Turner Group     2.2     Sci-Fi  2013\n",
       "98   Michelle Johnson                   Brown Ltd     9.2     Action  2009\n",
       "99       Bonnie Scott  Hensley, Gaines and Benton     9.1     Sci-Fi  2005\n",
       "\n",
       "[100 rows x 5 columns]"
      ]
     },
     "execution_count": 40,
     "metadata": {},
     "output_type": "execute_result"
    }
   ],
   "source": [
    "df"
   ]
  },
  {
   "cell_type": "markdown",
   "id": "593d8b6e-0ca9-4057-a623-67a50ed2852e",
   "metadata": {},
   "source": [
    "### Bar chart"
   ]
  },
  {
   "cell_type": "code",
   "execution_count": 41,
   "id": "425d5036-4ab2-430a-b785-3d068a38c045",
   "metadata": {},
   "outputs": [
    {
     "data": {
      "text/plain": [
       "genre\n",
       "Horror       18\n",
       "Romance      15\n",
       "Comedy       13\n",
       "Sci-Fi       13\n",
       "Adventure    12\n",
       "Action       11\n",
       "Thriller      9\n",
       "Drama         9\n",
       "Name: count, dtype: int64"
      ]
     },
     "execution_count": 41,
     "metadata": {},
     "output_type": "execute_result"
    }
   ],
   "source": [
    "a = df.genre.value_counts()\n",
    "a"
   ]
  },
  {
   "cell_type": "code",
   "execution_count": 42,
   "id": "0033bc34-fa3b-4c5f-a173-97f821716628",
   "metadata": {},
   "outputs": [
    {
     "data": {
      "text/plain": [
       "array([18, 15, 13, 13, 12, 11,  9,  9], dtype=int64)"
      ]
     },
     "execution_count": 42,
     "metadata": {},
     "output_type": "execute_result"
    }
   ],
   "source": [
    "a.values"
   ]
  },
  {
   "cell_type": "code",
   "execution_count": 43,
   "id": "cd914b4b-c7cf-4cbb-a462-69b7067b14fe",
   "metadata": {},
   "outputs": [
    {
     "data": {
      "text/plain": [
       "Index(['Horror', 'Romance', 'Comedy', 'Sci-Fi', 'Adventure', 'Action',\n",
       "       'Thriller', 'Drama'],\n",
       "      dtype='object', name='genre')"
      ]
     },
     "execution_count": 43,
     "metadata": {},
     "output_type": "execute_result"
    }
   ],
   "source": [
    "a.index"
   ]
  },
  {
   "cell_type": "code",
   "execution_count": 45,
   "id": "94dc311d-f8bf-4d40-825d-30d27ac75104",
   "metadata": {},
   "outputs": [
    {
     "data": {
      "image/png": "[encoded data removed]",
      "text/plain": [
       "<Figure size 1500x500 with 1 Axes>"
      ]
     },
     "metadata": {},
     "output_type": "display_data"
    }
   ],
   "source": [
    "plt.figure(figsize=(15,5))\n",
    "plt.bar(x=a.index, height=a.values)\n",
    "plt.show()"
   ]
  },
  {
   "cell_type": "code",
   "execution_count": 47,
   "id": "a2731ff2-e8e1-40f5-b377-0efad3ece295",
   "metadata": {},
   "outputs": [
    {
     "data": {
      "text/plain": [
       "<Axes: xlabel='genre'>"
      ]
     },
     "execution_count": 47,
     "metadata": {},
     "output_type": "execute_result"
    },
    {
     "data": {
      "image/png": "[encoded data removed]",
      "text/plain": [
       "<Figure size 640x480 with 1 Axes>"
      ]
     },
     "metadata": {},
     "output_type": "display_data"
    }
   ],
   "source": [
    "sns.barplot(x=a.index,y=a.values, color='lightblue')"
   ]
  },
  {
   "cell_type": "markdown",
   "id": "bd2f5772-45ed-47b8-9a88-d9a34ee55c8e",
   "metadata": {},
   "source": [
    "### Pie Chart"
   ]
  },
  {
   "cell_type": "code",
   "execution_count": 50,
   "id": "f3c03c0b-ed30-432c-8ac9-ca5a026a3db2",
   "metadata": {},
   "outputs": [
    {
     "data": {
      "image/png": "[encoded data removed]",
      "text/plain": [
       "<Figure size 640x480 with 1 Axes>"
      ]
     },
     "metadata": {},
     "output_type": "display_data"
    }
   ],
   "source": [
    "plt.pie(a.values,labels=a.index);"
   ]
  },
  {
   "cell_type": "code",
   "execution_count": 51,
   "id": "fc265379-4a99-4a08-9220-760a92a8013e",
   "metadata": {},
   "outputs": [
    {
     "data": {
      "text/html": [
       "<div>\n",
       "<style scoped>\n",
       "    .dataframe tbody tr th:only-of-type {\n",
       "        vertical-align: middle;\n",
       "    }\n",
       "\n",
       "    .dataframe tbody tr th {\n",
       "        vertical-align: top;\n",
       "    }\n",
       "\n",
       "    .dataframe thead th {\n",
       "        text-align: right;\n",
       "    }\n",
       "</style>\n",
       "<table border=\"1\" class=\"dataframe\">\n",
       "  <thead>\n",
       "    <tr style=\"text-align: right;\">\n",
       "      <th></th>\n",
       "      <th>director</th>\n",
       "      <th>movie_name</th>\n",
       "      <th>rating</th>\n",
       "      <th>genre</th>\n",
       "      <th>year</th>\n",
       "      <th>rat_cat</th>\n",
       "    </tr>\n",
       "  </thead>\n",
       "  <tbody>\n",
       "    <tr>\n",
       "      <th>0</th>\n",
       "      <td>April Shepard</td>\n",
       "      <td>Rhodes, Sanchez and Jordan</td>\n",
       "      <td>6.5</td>\n",
       "      <td>Adventure</td>\n",
       "      <td>2008</td>\n",
       "      <td>medium</td>\n",
       "    </tr>\n",
       "    <tr>\n",
       "      <th>1</th>\n",
       "      <td>Elizabeth Castro</td>\n",
       "      <td>Smith-Solomon</td>\n",
       "      <td>6.8</td>\n",
       "      <td>Adventure</td>\n",
       "      <td>2019</td>\n",
       "      <td>medium</td>\n",
       "    </tr>\n",
       "    <tr>\n",
       "      <th>2</th>\n",
       "      <td>Emily Fisher</td>\n",
       "      <td>Gordon-Obrien</td>\n",
       "      <td>9.0</td>\n",
       "      <td>Thriller</td>\n",
       "      <td>2023</td>\n",
       "      <td>high</td>\n",
       "    </tr>\n",
       "    <tr>\n",
       "      <th>3</th>\n",
       "      <td>Derek Rodriguez</td>\n",
       "      <td>Johnson-Carpenter</td>\n",
       "      <td>9.3</td>\n",
       "      <td>Adventure</td>\n",
       "      <td>2010</td>\n",
       "      <td>high</td>\n",
       "    </tr>\n",
       "    <tr>\n",
       "      <th>4</th>\n",
       "      <td>John Fisher</td>\n",
       "      <td>Brown-Johnson</td>\n",
       "      <td>2.6</td>\n",
       "      <td>Romance</td>\n",
       "      <td>2020</td>\n",
       "      <td>low</td>\n",
       "    </tr>\n",
       "    <tr>\n",
       "      <th>...</th>\n",
       "      <td>...</td>\n",
       "      <td>...</td>\n",
       "      <td>...</td>\n",
       "      <td>...</td>\n",
       "      <td>...</td>\n",
       "      <td>...</td>\n",
       "    </tr>\n",
       "    <tr>\n",
       "      <th>95</th>\n",
       "      <td>Elizabeth Calhoun</td>\n",
       "      <td>Costa Inc</td>\n",
       "      <td>6.3</td>\n",
       "      <td>Drama</td>\n",
       "      <td>2013</td>\n",
       "      <td>medium</td>\n",
       "    </tr>\n",
       "    <tr>\n",
       "      <th>96</th>\n",
       "      <td>David Peterson</td>\n",
       "      <td>Johnson Inc</td>\n",
       "      <td>3.8</td>\n",
       "      <td>Drama</td>\n",
       "      <td>2000</td>\n",
       "      <td>low</td>\n",
       "    </tr>\n",
       "    <tr>\n",
       "      <th>97</th>\n",
       "      <td>Cindy Bolton</td>\n",
       "      <td>Turner Group</td>\n",
       "      <td>2.2</td>\n",
       "      <td>Sci-Fi</td>\n",
       "      <td>2013</td>\n",
       "      <td>low</td>\n",
       "    </tr>\n",
       "    <tr>\n",
       "      <th>98</th>\n",
       "      <td>Michelle Johnson</td>\n",
       "      <td>Brown Ltd</td>\n",
       "      <td>9.2</td>\n",
       "      <td>Action</td>\n",
       "      <td>2009</td>\n",
       "      <td>high</td>\n",
       "    </tr>\n",
       "    <tr>\n",
       "      <th>99</th>\n",
       "      <td>Bonnie Scott</td>\n",
       "      <td>Hensley, Gaines and Benton</td>\n",
       "      <td>9.1</td>\n",
       "      <td>Sci-Fi</td>\n",
       "      <td>2005</td>\n",
       "      <td>high</td>\n",
       "    </tr>\n",
       "  </tbody>\n",
       "</table>\n",
       "<p>100 rows × 6 columns</p>\n",
       "</div>"
      ],
      "text/plain": [
       "             director                  movie_name  rating      genre  year  \\\n",
       "0       April Shepard  Rhodes, Sanchez and Jordan     6.5  Adventure  2008   \n",
       "1    Elizabeth Castro               Smith-Solomon     6.8  Adventure  2019   \n",
       "2        Emily Fisher               Gordon-Obrien     9.0   Thriller  2023   \n",
       "3     Derek Rodriguez           Johnson-Carpenter     9.3  Adventure  2010   \n",
       "4         John Fisher               Brown-Johnson     2.6    Romance  2020   \n",
       "..                ...                         ...     ...        ...   ...   \n",
       "95  Elizabeth Calhoun                   Costa Inc     6.3      Drama  2013   \n",
       "96     David Peterson                 Johnson Inc     3.8      Drama  2000   \n",
       "97       Cindy Bolton                Turner Group     2.2     Sci-Fi  2013   \n",
       "98   Michelle Johnson                   Brown Ltd     9.2     Action  2009   \n",
       "99       Bonnie Scott  Hensley, Gaines and Benton     9.1     Sci-Fi  2005   \n",
       "\n",
       "   rat_cat  \n",
       "0   medium  \n",
       "1   medium  \n",
       "2     high  \n",
       "3     high  \n",
       "4      low  \n",
       "..     ...  \n",
       "95  medium  \n",
       "96     low  \n",
       "97     low  \n",
       "98    high  \n",
       "99    high  \n",
       "\n",
       "[100 rows x 6 columns]"
      ]
     },
     "execution_count": 51,
     "metadata": {},
     "output_type": "execute_result"
    }
   ],
   "source": [
    "df['rat_cat'] = np.where(df.rating>=7,'high',np.where(df.rating>=6,'medium','low'))\n",
    "df"
   ]
  },
  {
   "cell_type": "code",
   "execution_count": 62,
   "id": "1f9d514b-7f30-45a6-8682-35d535504371",
   "metadata": {},
   "outputs": [],
   "source": [
    "df['rating'] = df['rating'].astype('int')"
   ]
  },
  {
   "cell_type": "code",
   "execution_count": 68,
   "id": "be4b44d2-1d6c-44e7-9d4b-a3ff97e5d8bf",
   "metadata": {},
   "outputs": [],
   "source": [
    "a = df['rat_cat'].value_counts()"
   ]
  },
  {
   "cell_type": "code",
   "execution_count": 69,
   "id": "ab48f2d5-5690-49c4-afca-a8d2c09055d6",
   "metadata": {},
   "outputs": [
    {
     "data": {
      "text/plain": [
       "rat_cat\n",
       "low       56\n",
       "high      33\n",
       "medium    11\n",
       "Name: count, dtype: int64"
      ]
     },
     "execution_count": 69,
     "metadata": {},
     "output_type": "execute_result"
    }
   ],
   "source": [
    "a"
   ]
  },
  {
   "cell_type": "code",
   "execution_count": 81,
   "id": "7b69e502-9f96-4460-acd8-c0d4e59f9139",
   "metadata": {},
   "outputs": [
    {
     "data": {
      "text/plain": [
       "pandas.core.series.Series"
      ]
     },
     "execution_count": 81,
     "metadata": {},
     "output_type": "execute_result"
    }
   ],
   "source": [
    "type(a)"
   ]
  },
  {
   "cell_type": "code",
   "execution_count": 73,
   "id": "a04497f7-1954-4473-a34c-c368bbe3c64c",
   "metadata": {},
   "outputs": [
    {
     "data": {
      "text/plain": [
       "Index(['low', 'high', 'medium'], dtype='object', name='rat_cat')"
      ]
     },
     "execution_count": 73,
     "metadata": {},
     "output_type": "execute_result"
    }
   ],
   "source": [
    "a.index"
   ]
  },
  {
   "cell_type": "code",
   "execution_count": 74,
   "id": "3bac9da9-a22d-447a-b1aa-847e88c5e427",
   "metadata": {},
   "outputs": [
    {
     "data": {
      "text/plain": [
       "array([56, 33, 11], dtype=int64)"
      ]
     },
     "execution_count": 74,
     "metadata": {},
     "output_type": "execute_result"
    }
   ],
   "source": [
    "a.values"
   ]
  },
  {
   "cell_type": "code",
   "execution_count": 79,
   "id": "54bc951e-824d-4902-b556-e055245c46a4",
   "metadata": {},
   "outputs": [
    {
     "data": {
      "image/png": "[encoded data removed]",
      "text/plain": [
       "<Figure size 640x480 with 1 Axes>"
      ]
     },
     "metadata": {},
     "output_type": "display_data"
    }
   ],
   "source": [
    "plt.pie(a,labels=a.index,autopct='%1.2f%%',explode=[0,0,0.1]);"
   ]
  },
  {
   "cell_type": "markdown",
   "id": "4b2934fd-04c8-4e23-ac46-aad0029e814f",
   "metadata": {},
   "source": [
    "## Two way Tables"
   ]
  },
  {
   "cell_type": "code",
   "execution_count": 80,
   "id": "ec143cb6-f677-4440-849d-ab5654c29ff9",
   "metadata": {},
   "outputs": [
    {
     "data": {
      "text/html": [
       "<div>\n",
       "<style scoped>\n",
       "    .dataframe tbody tr th:only-of-type {\n",
       "        vertical-align: middle;\n",
       "    }\n",
       "\n",
       "    .dataframe tbody tr th {\n",
       "        vertical-align: top;\n",
       "    }\n",
       "\n",
       "    .dataframe thead th {\n",
       "        text-align: right;\n",
       "    }\n",
       "</style>\n",
       "<table border=\"1\" class=\"dataframe\">\n",
       "  <thead>\n",
       "    <tr style=\"text-align: right;\">\n",
       "      <th>rat_cat</th>\n",
       "      <th>high</th>\n",
       "      <th>low</th>\n",
       "      <th>medium</th>\n",
       "    </tr>\n",
       "    <tr>\n",
       "      <th>year</th>\n",
       "      <th></th>\n",
       "      <th></th>\n",
       "      <th></th>\n",
       "    </tr>\n",
       "  </thead>\n",
       "  <tbody>\n",
       "    <tr>\n",
       "      <th>2000</th>\n",
       "      <td>1</td>\n",
       "      <td>5</td>\n",
       "      <td>1</td>\n",
       "    </tr>\n",
       "    <tr>\n",
       "      <th>2001</th>\n",
       "      <td>3</td>\n",
       "      <td>2</td>\n",
       "      <td>0</td>\n",
       "    </tr>\n",
       "    <tr>\n",
       "      <th>2002</th>\n",
       "      <td>1</td>\n",
       "      <td>4</td>\n",
       "      <td>1</td>\n",
       "    </tr>\n",
       "    <tr>\n",
       "      <th>2003</th>\n",
       "      <td>2</td>\n",
       "      <td>4</td>\n",
       "      <td>0</td>\n",
       "    </tr>\n",
       "    <tr>\n",
       "      <th>2004</th>\n",
       "      <td>2</td>\n",
       "      <td>4</td>\n",
       "      <td>0</td>\n",
       "    </tr>\n",
       "    <tr>\n",
       "      <th>2005</th>\n",
       "      <td>3</td>\n",
       "      <td>1</td>\n",
       "      <td>0</td>\n",
       "    </tr>\n",
       "    <tr>\n",
       "      <th>2006</th>\n",
       "      <td>1</td>\n",
       "      <td>3</td>\n",
       "      <td>0</td>\n",
       "    </tr>\n",
       "    <tr>\n",
       "      <th>2007</th>\n",
       "      <td>0</td>\n",
       "      <td>3</td>\n",
       "      <td>0</td>\n",
       "    </tr>\n",
       "    <tr>\n",
       "      <th>2008</th>\n",
       "      <td>0</td>\n",
       "      <td>1</td>\n",
       "      <td>2</td>\n",
       "    </tr>\n",
       "    <tr>\n",
       "      <th>2009</th>\n",
       "      <td>1</td>\n",
       "      <td>3</td>\n",
       "      <td>0</td>\n",
       "    </tr>\n",
       "    <tr>\n",
       "      <th>2010</th>\n",
       "      <td>2</td>\n",
       "      <td>1</td>\n",
       "      <td>1</td>\n",
       "    </tr>\n",
       "    <tr>\n",
       "      <th>2011</th>\n",
       "      <td>2</td>\n",
       "      <td>2</td>\n",
       "      <td>0</td>\n",
       "    </tr>\n",
       "    <tr>\n",
       "      <th>2012</th>\n",
       "      <td>0</td>\n",
       "      <td>2</td>\n",
       "      <td>0</td>\n",
       "    </tr>\n",
       "    <tr>\n",
       "      <th>2013</th>\n",
       "      <td>1</td>\n",
       "      <td>2</td>\n",
       "      <td>2</td>\n",
       "    </tr>\n",
       "    <tr>\n",
       "      <th>2014</th>\n",
       "      <td>1</td>\n",
       "      <td>0</td>\n",
       "      <td>0</td>\n",
       "    </tr>\n",
       "    <tr>\n",
       "      <th>2015</th>\n",
       "      <td>2</td>\n",
       "      <td>1</td>\n",
       "      <td>1</td>\n",
       "    </tr>\n",
       "    <tr>\n",
       "      <th>2016</th>\n",
       "      <td>1</td>\n",
       "      <td>2</td>\n",
       "      <td>1</td>\n",
       "    </tr>\n",
       "    <tr>\n",
       "      <th>2017</th>\n",
       "      <td>1</td>\n",
       "      <td>5</td>\n",
       "      <td>1</td>\n",
       "    </tr>\n",
       "    <tr>\n",
       "      <th>2018</th>\n",
       "      <td>1</td>\n",
       "      <td>2</td>\n",
       "      <td>0</td>\n",
       "    </tr>\n",
       "    <tr>\n",
       "      <th>2019</th>\n",
       "      <td>3</td>\n",
       "      <td>2</td>\n",
       "      <td>1</td>\n",
       "    </tr>\n",
       "    <tr>\n",
       "      <th>2020</th>\n",
       "      <td>0</td>\n",
       "      <td>2</td>\n",
       "      <td>0</td>\n",
       "    </tr>\n",
       "    <tr>\n",
       "      <th>2022</th>\n",
       "      <td>1</td>\n",
       "      <td>2</td>\n",
       "      <td>0</td>\n",
       "    </tr>\n",
       "    <tr>\n",
       "      <th>2023</th>\n",
       "      <td>4</td>\n",
       "      <td>3</td>\n",
       "      <td>0</td>\n",
       "    </tr>\n",
       "  </tbody>\n",
       "</table>\n",
       "</div>"
      ],
      "text/plain": [
       "rat_cat  high  low  medium\n",
       "year                      \n",
       "2000        1    5       1\n",
       "2001        3    2       0\n",
       "2002        1    4       1\n",
       "2003        2    4       0\n",
       "2004        2    4       0\n",
       "2005        3    1       0\n",
       "2006        1    3       0\n",
       "2007        0    3       0\n",
       "2008        0    1       2\n",
       "2009        1    3       0\n",
       "2010        2    1       1\n",
       "2011        2    2       0\n",
       "2012        0    2       0\n",
       "2013        1    2       2\n",
       "2014        1    0       0\n",
       "2015        2    1       1\n",
       "2016        1    2       1\n",
       "2017        1    5       1\n",
       "2018        1    2       0\n",
       "2019        3    2       1\n",
       "2020        0    2       0\n",
       "2022        1    2       0\n",
       "2023        4    3       0"
      ]
     },
     "execution_count": 80,
     "metadata": {},
     "output_type": "execute_result"
    }
   ],
   "source": [
    "pd.crosstab(df.year,df.rat_cat)"
   ]
  },
  {
   "cell_type": "code",
   "execution_count": 82,
   "id": "6a3e2847-3e37-458b-bd81-e4ac65cc0d75",
   "metadata": {},
   "outputs": [
    {
     "data": {
      "text/html": [
       "<div>\n",
       "<style scoped>\n",
       "    .dataframe tbody tr th:only-of-type {\n",
       "        vertical-align: middle;\n",
       "    }\n",
       "\n",
       "    .dataframe tbody tr th {\n",
       "        vertical-align: top;\n",
       "    }\n",
       "\n",
       "    .dataframe thead th {\n",
       "        text-align: right;\n",
       "    }\n",
       "</style>\n",
       "<table border=\"1\" class=\"dataframe\">\n",
       "  <thead>\n",
       "    <tr style=\"text-align: right;\">\n",
       "      <th>rat_cat</th>\n",
       "      <th>high</th>\n",
       "      <th>low</th>\n",
       "      <th>medium</th>\n",
       "    </tr>\n",
       "    <tr>\n",
       "      <th>year</th>\n",
       "      <th></th>\n",
       "      <th></th>\n",
       "      <th></th>\n",
       "    </tr>\n",
       "  </thead>\n",
       "  <tbody>\n",
       "    <tr>\n",
       "      <th>2000</th>\n",
       "      <td>0.01</td>\n",
       "      <td>0.05</td>\n",
       "      <td>0.01</td>\n",
       "    </tr>\n",
       "    <tr>\n",
       "      <th>2001</th>\n",
       "      <td>0.03</td>\n",
       "      <td>0.02</td>\n",
       "      <td>0.00</td>\n",
       "    </tr>\n",
       "    <tr>\n",
       "      <th>2002</th>\n",
       "      <td>0.01</td>\n",
       "      <td>0.04</td>\n",
       "      <td>0.01</td>\n",
       "    </tr>\n",
       "    <tr>\n",
       "      <th>2003</th>\n",
       "      <td>0.02</td>\n",
       "      <td>0.04</td>\n",
       "      <td>0.00</td>\n",
       "    </tr>\n",
       "    <tr>\n",
       "      <th>2004</th>\n",
       "      <td>0.02</td>\n",
       "      <td>0.04</td>\n",
       "      <td>0.00</td>\n",
       "    </tr>\n",
       "    <tr>\n",
       "      <th>2005</th>\n",
       "      <td>0.03</td>\n",
       "      <td>0.01</td>\n",
       "      <td>0.00</td>\n",
       "    </tr>\n",
       "    <tr>\n",
       "      <th>2006</th>\n",
       "      <td>0.01</td>\n",
       "      <td>0.03</td>\n",
       "      <td>0.00</td>\n",
       "    </tr>\n",
       "    <tr>\n",
       "      <th>2007</th>\n",
       "      <td>0.00</td>\n",
       "      <td>0.03</td>\n",
       "      <td>0.00</td>\n",
       "    </tr>\n",
       "    <tr>\n",
       "      <th>2008</th>\n",
       "      <td>0.00</td>\n",
       "      <td>0.01</td>\n",
       "      <td>0.02</td>\n",
       "    </tr>\n",
       "    <tr>\n",
       "      <th>2009</th>\n",
       "      <td>0.01</td>\n",
       "      <td>0.03</td>\n",
       "      <td>0.00</td>\n",
       "    </tr>\n",
       "    <tr>\n",
       "      <th>2010</th>\n",
       "      <td>0.02</td>\n",
       "      <td>0.01</td>\n",
       "      <td>0.01</td>\n",
       "    </tr>\n",
       "    <tr>\n",
       "      <th>2011</th>\n",
       "      <td>0.02</td>\n",
       "      <td>0.02</td>\n",
       "      <td>0.00</td>\n",
       "    </tr>\n",
       "    <tr>\n",
       "      <th>2012</th>\n",
       "      <td>0.00</td>\n",
       "      <td>0.02</td>\n",
       "      <td>0.00</td>\n",
       "    </tr>\n",
       "    <tr>\n",
       "      <th>2013</th>\n",
       "      <td>0.01</td>\n",
       "      <td>0.02</td>\n",
       "      <td>0.02</td>\n",
       "    </tr>\n",
       "    <tr>\n",
       "      <th>2014</th>\n",
       "      <td>0.01</td>\n",
       "      <td>0.00</td>\n",
       "      <td>0.00</td>\n",
       "    </tr>\n",
       "    <tr>\n",
       "      <th>2015</th>\n",
       "      <td>0.02</td>\n",
       "      <td>0.01</td>\n",
       "      <td>0.01</td>\n",
       "    </tr>\n",
       "    <tr>\n",
       "      <th>2016</th>\n",
       "      <td>0.01</td>\n",
       "      <td>0.02</td>\n",
       "      <td>0.01</td>\n",
       "    </tr>\n",
       "    <tr>\n",
       "      <th>2017</th>\n",
       "      <td>0.01</td>\n",
       "      <td>0.05</td>\n",
       "      <td>0.01</td>\n",
       "    </tr>\n",
       "    <tr>\n",
       "      <th>2018</th>\n",
       "      <td>0.01</td>\n",
       "      <td>0.02</td>\n",
       "      <td>0.00</td>\n",
       "    </tr>\n",
       "    <tr>\n",
       "      <th>2019</th>\n",
       "      <td>0.03</td>\n",
       "      <td>0.02</td>\n",
       "      <td>0.01</td>\n",
       "    </tr>\n",
       "    <tr>\n",
       "      <th>2020</th>\n",
       "      <td>0.00</td>\n",
       "      <td>0.02</td>\n",
       "      <td>0.00</td>\n",
       "    </tr>\n",
       "    <tr>\n",
       "      <th>2022</th>\n",
       "      <td>0.01</td>\n",
       "      <td>0.02</td>\n",
       "      <td>0.00</td>\n",
       "    </tr>\n",
       "    <tr>\n",
       "      <th>2023</th>\n",
       "      <td>0.04</td>\n",
       "      <td>0.03</td>\n",
       "      <td>0.00</td>\n",
       "    </tr>\n",
       "  </tbody>\n",
       "</table>\n",
       "</div>"
      ],
      "text/plain": [
       "rat_cat  high   low  medium\n",
       "year                       \n",
       "2000     0.01  0.05    0.01\n",
       "2001     0.03  0.02    0.00\n",
       "2002     0.01  0.04    0.01\n",
       "2003     0.02  0.04    0.00\n",
       "2004     0.02  0.04    0.00\n",
       "2005     0.03  0.01    0.00\n",
       "2006     0.01  0.03    0.00\n",
       "2007     0.00  0.03    0.00\n",
       "2008     0.00  0.01    0.02\n",
       "2009     0.01  0.03    0.00\n",
       "2010     0.02  0.01    0.01\n",
       "2011     0.02  0.02    0.00\n",
       "2012     0.00  0.02    0.00\n",
       "2013     0.01  0.02    0.02\n",
       "2014     0.01  0.00    0.00\n",
       "2015     0.02  0.01    0.01\n",
       "2016     0.01  0.02    0.01\n",
       "2017     0.01  0.05    0.01\n",
       "2018     0.01  0.02    0.00\n",
       "2019     0.03  0.02    0.01\n",
       "2020     0.00  0.02    0.00\n",
       "2022     0.01  0.02    0.00\n",
       "2023     0.04  0.03    0.00"
      ]
     },
     "execution_count": 82,
     "metadata": {},
     "output_type": "execute_result"
    }
   ],
   "source": [
    "pd.crosstab(df.year,df.rat_cat, normalize=True) #  Normalizes whole table"
   ]
  },
  {
   "cell_type": "code",
   "execution_count": 83,
   "id": "e4307b39-e2e5-43aa-82e8-f8dd5943e588",
   "metadata": {},
   "outputs": [
    {
     "data": {
      "text/html": [
       "<div>\n",
       "<style scoped>\n",
       "    .dataframe tbody tr th:only-of-type {\n",
       "        vertical-align: middle;\n",
       "    }\n",
       "\n",
       "    .dataframe tbody tr th {\n",
       "        vertical-align: top;\n",
       "    }\n",
       "\n",
       "    .dataframe thead th {\n",
       "        text-align: right;\n",
       "    }\n",
       "</style>\n",
       "<table border=\"1\" class=\"dataframe\">\n",
       "  <thead>\n",
       "    <tr style=\"text-align: right;\">\n",
       "      <th>rat_cat</th>\n",
       "      <th>high</th>\n",
       "      <th>low</th>\n",
       "      <th>medium</th>\n",
       "    </tr>\n",
       "    <tr>\n",
       "      <th>year</th>\n",
       "      <th></th>\n",
       "      <th></th>\n",
       "      <th></th>\n",
       "    </tr>\n",
       "  </thead>\n",
       "  <tbody>\n",
       "    <tr>\n",
       "      <th>2000</th>\n",
       "      <td>0.142857</td>\n",
       "      <td>0.714286</td>\n",
       "      <td>0.142857</td>\n",
       "    </tr>\n",
       "    <tr>\n",
       "      <th>2001</th>\n",
       "      <td>0.600000</td>\n",
       "      <td>0.400000</td>\n",
       "      <td>0.000000</td>\n",
       "    </tr>\n",
       "    <tr>\n",
       "      <th>2002</th>\n",
       "      <td>0.166667</td>\n",
       "      <td>0.666667</td>\n",
       "      <td>0.166667</td>\n",
       "    </tr>\n",
       "    <tr>\n",
       "      <th>2003</th>\n",
       "      <td>0.333333</td>\n",
       "      <td>0.666667</td>\n",
       "      <td>0.000000</td>\n",
       "    </tr>\n",
       "    <tr>\n",
       "      <th>2004</th>\n",
       "      <td>0.333333</td>\n",
       "      <td>0.666667</td>\n",
       "      <td>0.000000</td>\n",
       "    </tr>\n",
       "    <tr>\n",
       "      <th>2005</th>\n",
       "      <td>0.750000</td>\n",
       "      <td>0.250000</td>\n",
       "      <td>0.000000</td>\n",
       "    </tr>\n",
       "    <tr>\n",
       "      <th>2006</th>\n",
       "      <td>0.250000</td>\n",
       "      <td>0.750000</td>\n",
       "      <td>0.000000</td>\n",
       "    </tr>\n",
       "    <tr>\n",
       "      <th>2007</th>\n",
       "      <td>0.000000</td>\n",
       "      <td>1.000000</td>\n",
       "      <td>0.000000</td>\n",
       "    </tr>\n",
       "    <tr>\n",
       "      <th>2008</th>\n",
       "      <td>0.000000</td>\n",
       "      <td>0.333333</td>\n",
       "      <td>0.666667</td>\n",
       "    </tr>\n",
       "    <tr>\n",
       "      <th>2009</th>\n",
       "      <td>0.250000</td>\n",
       "      <td>0.750000</td>\n",
       "      <td>0.000000</td>\n",
       "    </tr>\n",
       "    <tr>\n",
       "      <th>2010</th>\n",
       "      <td>0.500000</td>\n",
       "      <td>0.250000</td>\n",
       "      <td>0.250000</td>\n",
       "    </tr>\n",
       "    <tr>\n",
       "      <th>2011</th>\n",
       "      <td>0.500000</td>\n",
       "      <td>0.500000</td>\n",
       "      <td>0.000000</td>\n",
       "    </tr>\n",
       "    <tr>\n",
       "      <th>2012</th>\n",
       "      <td>0.000000</td>\n",
       "      <td>1.000000</td>\n",
       "      <td>0.000000</td>\n",
       "    </tr>\n",
       "    <tr>\n",
       "      <th>2013</th>\n",
       "      <td>0.200000</td>\n",
       "      <td>0.400000</td>\n",
       "      <td>0.400000</td>\n",
       "    </tr>\n",
       "    <tr>\n",
       "      <th>2014</th>\n",
       "      <td>1.000000</td>\n",
       "      <td>0.000000</td>\n",
       "      <td>0.000000</td>\n",
       "    </tr>\n",
       "    <tr>\n",
       "      <th>2015</th>\n",
       "      <td>0.500000</td>\n",
       "      <td>0.250000</td>\n",
       "      <td>0.250000</td>\n",
       "    </tr>\n",
       "    <tr>\n",
       "      <th>2016</th>\n",
       "      <td>0.250000</td>\n",
       "      <td>0.500000</td>\n",
       "      <td>0.250000</td>\n",
       "    </tr>\n",
       "    <tr>\n",
       "      <th>2017</th>\n",
       "      <td>0.142857</td>\n",
       "      <td>0.714286</td>\n",
       "      <td>0.142857</td>\n",
       "    </tr>\n",
       "    <tr>\n",
       "      <th>2018</th>\n",
       "      <td>0.333333</td>\n",
       "      <td>0.666667</td>\n",
       "      <td>0.000000</td>\n",
       "    </tr>\n",
       "    <tr>\n",
       "      <th>2019</th>\n",
       "      <td>0.500000</td>\n",
       "      <td>0.333333</td>\n",
       "      <td>0.166667</td>\n",
       "    </tr>\n",
       "    <tr>\n",
       "      <th>2020</th>\n",
       "      <td>0.000000</td>\n",
       "      <td>1.000000</td>\n",
       "      <td>0.000000</td>\n",
       "    </tr>\n",
       "    <tr>\n",
       "      <th>2022</th>\n",
       "      <td>0.333333</td>\n",
       "      <td>0.666667</td>\n",
       "      <td>0.000000</td>\n",
       "    </tr>\n",
       "    <tr>\n",
       "      <th>2023</th>\n",
       "      <td>0.571429</td>\n",
       "      <td>0.428571</td>\n",
       "      <td>0.000000</td>\n",
       "    </tr>\n",
       "  </tbody>\n",
       "</table>\n",
       "</div>"
      ],
      "text/plain": [
       "rat_cat      high       low    medium\n",
       "year                                 \n",
       "2000     0.142857  0.714286  0.142857\n",
       "2001     0.600000  0.400000  0.000000\n",
       "2002     0.166667  0.666667  0.166667\n",
       "2003     0.333333  0.666667  0.000000\n",
       "2004     0.333333  0.666667  0.000000\n",
       "2005     0.750000  0.250000  0.000000\n",
       "2006     0.250000  0.750000  0.000000\n",
       "2007     0.000000  1.000000  0.000000\n",
       "2008     0.000000  0.333333  0.666667\n",
       "2009     0.250000  0.750000  0.000000\n",
       "2010     0.500000  0.250000  0.250000\n",
       "2011     0.500000  0.500000  0.000000\n",
       "2012     0.000000  1.000000  0.000000\n",
       "2013     0.200000  0.400000  0.400000\n",
       "2014     1.000000  0.000000  0.000000\n",
       "2015     0.500000  0.250000  0.250000\n",
       "2016     0.250000  0.500000  0.250000\n",
       "2017     0.142857  0.714286  0.142857\n",
       "2018     0.333333  0.666667  0.000000\n",
       "2019     0.500000  0.333333  0.166667\n",
       "2020     0.000000  1.000000  0.000000\n",
       "2022     0.333333  0.666667  0.000000\n",
       "2023     0.571429  0.428571  0.000000"
      ]
     },
     "execution_count": 83,
     "metadata": {},
     "output_type": "execute_result"
    }
   ],
   "source": [
    "pd.crosstab(df.year,df.rat_cat, normalize='index')  #  normalizes row wise"
   ]
  },
  {
   "cell_type": "code",
   "execution_count": 84,
   "id": "37460b2d-e2a8-451d-96de-11196e370f1e",
   "metadata": {},
   "outputs": [
    {
     "data": {
      "text/html": [
       "<div>\n",
       "<style scoped>\n",
       "    .dataframe tbody tr th:only-of-type {\n",
       "        vertical-align: middle;\n",
       "    }\n",
       "\n",
       "    .dataframe tbody tr th {\n",
       "        vertical-align: top;\n",
       "    }\n",
       "\n",
       "    .dataframe thead th {\n",
       "        text-align: right;\n",
       "    }\n",
       "</style>\n",
       "<table border=\"1\" class=\"dataframe\">\n",
       "  <thead>\n",
       "    <tr style=\"text-align: right;\">\n",
       "      <th>rat_cat</th>\n",
       "      <th>high</th>\n",
       "      <th>low</th>\n",
       "      <th>medium</th>\n",
       "    </tr>\n",
       "    <tr>\n",
       "      <th>year</th>\n",
       "      <th></th>\n",
       "      <th></th>\n",
       "      <th></th>\n",
       "    </tr>\n",
       "  </thead>\n",
       "  <tbody>\n",
       "    <tr>\n",
       "      <th>2000</th>\n",
       "      <td>0.030303</td>\n",
       "      <td>0.089286</td>\n",
       "      <td>0.090909</td>\n",
       "    </tr>\n",
       "    <tr>\n",
       "      <th>2001</th>\n",
       "      <td>0.090909</td>\n",
       "      <td>0.035714</td>\n",
       "      <td>0.000000</td>\n",
       "    </tr>\n",
       "    <tr>\n",
       "      <th>2002</th>\n",
       "      <td>0.030303</td>\n",
       "      <td>0.071429</td>\n",
       "      <td>0.090909</td>\n",
       "    </tr>\n",
       "    <tr>\n",
       "      <th>2003</th>\n",
       "      <td>0.060606</td>\n",
       "      <td>0.071429</td>\n",
       "      <td>0.000000</td>\n",
       "    </tr>\n",
       "    <tr>\n",
       "      <th>2004</th>\n",
       "      <td>0.060606</td>\n",
       "      <td>0.071429</td>\n",
       "      <td>0.000000</td>\n",
       "    </tr>\n",
       "    <tr>\n",
       "      <th>2005</th>\n",
       "      <td>0.090909</td>\n",
       "      <td>0.017857</td>\n",
       "      <td>0.000000</td>\n",
       "    </tr>\n",
       "    <tr>\n",
       "      <th>2006</th>\n",
       "      <td>0.030303</td>\n",
       "      <td>0.053571</td>\n",
       "      <td>0.000000</td>\n",
       "    </tr>\n",
       "    <tr>\n",
       "      <th>2007</th>\n",
       "      <td>0.000000</td>\n",
       "      <td>0.053571</td>\n",
       "      <td>0.000000</td>\n",
       "    </tr>\n",
       "    <tr>\n",
       "      <th>2008</th>\n",
       "      <td>0.000000</td>\n",
       "      <td>0.017857</td>\n",
       "      <td>0.181818</td>\n",
       "    </tr>\n",
       "    <tr>\n",
       "      <th>2009</th>\n",
       "      <td>0.030303</td>\n",
       "      <td>0.053571</td>\n",
       "      <td>0.000000</td>\n",
       "    </tr>\n",
       "    <tr>\n",
       "      <th>2010</th>\n",
       "      <td>0.060606</td>\n",
       "      <td>0.017857</td>\n",
       "      <td>0.090909</td>\n",
       "    </tr>\n",
       "    <tr>\n",
       "      <th>2011</th>\n",
       "      <td>0.060606</td>\n",
       "      <td>0.035714</td>\n",
       "      <td>0.000000</td>\n",
       "    </tr>\n",
       "    <tr>\n",
       "      <th>2012</th>\n",
       "      <td>0.000000</td>\n",
       "      <td>0.035714</td>\n",
       "      <td>0.000000</td>\n",
       "    </tr>\n",
       "    <tr>\n",
       "      <th>2013</th>\n",
       "      <td>0.030303</td>\n",
       "      <td>0.035714</td>\n",
       "      <td>0.181818</td>\n",
       "    </tr>\n",
       "    <tr>\n",
       "      <th>2014</th>\n",
       "      <td>0.030303</td>\n",
       "      <td>0.000000</td>\n",
       "      <td>0.000000</td>\n",
       "    </tr>\n",
       "    <tr>\n",
       "      <th>2015</th>\n",
       "      <td>0.060606</td>\n",
       "      <td>0.017857</td>\n",
       "      <td>0.090909</td>\n",
       "    </tr>\n",
       "    <tr>\n",
       "      <th>2016</th>\n",
       "      <td>0.030303</td>\n",
       "      <td>0.035714</td>\n",
       "      <td>0.090909</td>\n",
       "    </tr>\n",
       "    <tr>\n",
       "      <th>2017</th>\n",
       "      <td>0.030303</td>\n",
       "      <td>0.089286</td>\n",
       "      <td>0.090909</td>\n",
       "    </tr>\n",
       "    <tr>\n",
       "      <th>2018</th>\n",
       "      <td>0.030303</td>\n",
       "      <td>0.035714</td>\n",
       "      <td>0.000000</td>\n",
       "    </tr>\n",
       "    <tr>\n",
       "      <th>2019</th>\n",
       "      <td>0.090909</td>\n",
       "      <td>0.035714</td>\n",
       "      <td>0.090909</td>\n",
       "    </tr>\n",
       "    <tr>\n",
       "      <th>2020</th>\n",
       "      <td>0.000000</td>\n",
       "      <td>0.035714</td>\n",
       "      <td>0.000000</td>\n",
       "    </tr>\n",
       "    <tr>\n",
       "      <th>2022</th>\n",
       "      <td>0.030303</td>\n",
       "      <td>0.035714</td>\n",
       "      <td>0.000000</td>\n",
       "    </tr>\n",
       "    <tr>\n",
       "      <th>2023</th>\n",
       "      <td>0.121212</td>\n",
       "      <td>0.053571</td>\n",
       "      <td>0.000000</td>\n",
       "    </tr>\n",
       "  </tbody>\n",
       "</table>\n",
       "</div>"
      ],
      "text/plain": [
       "rat_cat      high       low    medium\n",
       "year                                 \n",
       "2000     0.030303  0.089286  0.090909\n",
       "2001     0.090909  0.035714  0.000000\n",
       "2002     0.030303  0.071429  0.090909\n",
       "2003     0.060606  0.071429  0.000000\n",
       "2004     0.060606  0.071429  0.000000\n",
       "2005     0.090909  0.017857  0.000000\n",
       "2006     0.030303  0.053571  0.000000\n",
       "2007     0.000000  0.053571  0.000000\n",
       "2008     0.000000  0.017857  0.181818\n",
       "2009     0.030303  0.053571  0.000000\n",
       "2010     0.060606  0.017857  0.090909\n",
       "2011     0.060606  0.035714  0.000000\n",
       "2012     0.000000  0.035714  0.000000\n",
       "2013     0.030303  0.035714  0.181818\n",
       "2014     0.030303  0.000000  0.000000\n",
       "2015     0.060606  0.017857  0.090909\n",
       "2016     0.030303  0.035714  0.090909\n",
       "2017     0.030303  0.089286  0.090909\n",
       "2018     0.030303  0.035714  0.000000\n",
       "2019     0.090909  0.035714  0.090909\n",
       "2020     0.000000  0.035714  0.000000\n",
       "2022     0.030303  0.035714  0.000000\n",
       "2023     0.121212  0.053571  0.000000"
      ]
     },
     "execution_count": 84,
     "metadata": {},
     "output_type": "execute_result"
    }
   ],
   "source": [
    "pd.crosstab(df.year,df.rat_cat, normalize='columns') #  Normalizes column wise"
   ]
  },
  {
   "cell_type": "markdown",
   "id": "ce9d5052-7ff0-48e6-b425-2317d815f645",
   "metadata": {},
   "source": [
    "### Heat Maps"
   ]
  },
  {
   "cell_type": "code",
   "execution_count": 86,
   "id": "e67d527c-9a4d-4144-ab1a-9b2a64f19ff9",
   "metadata": {},
   "outputs": [
    {
     "data": {
      "text/plain": [
       "<Axes: xlabel='rat_cat', ylabel='year'>"
      ]
     },
     "execution_count": 86,
     "metadata": {},
     "output_type": "execute_result"
    },
    {
     "data": {
      "image/png": "[encoded data removed]",
      "text/plain": [
       "<Figure size 640x480 with 2 Axes>"
      ]
     },
     "metadata": {},
     "output_type": "display_data"
    }
   ],
   "source": [
    "sns.heatmap(pd.crosstab(df.year,df.rat_cat, normalize='index'),annot=True)"
   ]
  },
  {
   "cell_type": "code",
   "execution_count": 87,
   "id": "d94ee5de-d04c-440f-b142-dc63b68b45d0",
   "metadata": {},
   "outputs": [
    {
     "name": "stdout",
     "output_type": "stream",
     "text": [
      "On branch main\n",
      "Your branch is up to date with 'origin/main'.\n",
      "\n",
      "Changes not staged for commit:\n",
      "  (use \"git add <file>...\" to update what will be committed)\n",
      "  (use \"git restore <file>...\" to discard changes in working directory)\n",
      "\tmodified:   ../PANDAS/PANDAS_DATAFRAME_PRACTICE1.ipynb\n",
      "\tmodified:   BASIC_PYTHON.ipynb\n",
      "\n",
      "Untracked files:\n",
      "  (use \"git add <file>...\" to include in what will be committed)\n",
      "\t.ipynb_checkpoints/STATISTICAL_DATA_ANALYSIS-checkpoint.ipynb\n",
      "\tSTATISTICAL_DATA_ANALYSIS.ipynb\n",
      "\n",
      "no changes added to commit (use \"git add\" and/or \"git commit -a\")\n"
     ]
    }
   ],
   "source": [
    "!git status"
   ]
  },
  {
   "cell_type": "code",
   "execution_count": 88,
   "id": "cbd6dcfe-4d3e-4e6d-b0db-d3b8cb14fa30",
   "metadata": {},
   "outputs": [],
   "source": [
    "!git add ."
   ]
  },
  {
   "cell_type": "code",
   "execution_count": 89,
   "id": "737095c1-1555-4502-bad8-cb7d8ed0ea96",
   "metadata": {},
   "outputs": [
    {
     "name": "stdout",
     "output_type": "stream",
     "text": [
      "[main 86cfe71] Adding statistical data analysis\n",
      " 3 files changed, 2605 insertions(+), 2 deletions(-)\n",
      " create mode 100644 STATISTICS_FOR_DATASCIENCE/.ipynb_checkpoints/STATISTICAL_DATA_ANALYSIS-checkpoint.ipynb\n",
      " create mode 100644 STATISTICS_FOR_DATASCIENCE/STATISTICAL_DATA_ANALYSIS.ipynb\n"
     ]
    }
   ],
   "source": [
    "!git commit -m \"Adding statistical data analysis\""
   ]
  },
  {
   "cell_type": "code",
   "execution_count": 90,
   "id": "ba8161d4-8de3-41b7-8931-9e92e4b4e2a4",
   "metadata": {},
   "outputs": [
    {
     "name": "stderr",
     "output_type": "stream",
     "text": [
      "To github.com:gali-jithendra/LEARNINGS.git\n",
      "   86f297b..86cfe71  main -> main\n"
     ]
    }
   ],
   "source": [
    "!git push origin main"
   ]
  },
  {
   "cell_type": "code",
   "execution_count": null,
   "id": "623aa0f8-f87d-4771-9579-d286606c9f58",
   "metadata": {},
   "outputs": [],
   "source": []
  }
 ],
 "metadata": {
  "kernelspec": {
   "display_name": "Python 3 (ipykernel)",
   "language": "python",
   "name": "python3"
  },
  "language_info": {
   "codemirror_mode": {
    "name": "ipython",
    "version": 3
   },
   "file_extension": ".py",
   "mimetype": "text/x-python",
   "name": "python",
   "nbconvert_exporter": "python",
   "pygments_lexer": "ipython3",
   "version": "3.11.7"
  }
 },
 "nbformat": 4,
 "nbformat_minor": 5
}
