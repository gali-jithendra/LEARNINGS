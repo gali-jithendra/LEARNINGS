{
 "cells": [
  {
   "cell_type": "markdown",
   "id": "164de9df-115a-43b9-99bf-41050fa3046c",
   "metadata": {},
   "source": [
    "## DATE - 27th October 2025"
   ]
  },
  {
   "cell_type": "code",
   "execution_count": null,
   "id": "363e18ab-67e1-4390-bc50-4e5b7466c6ed",
   "metadata": {},
   "outputs": [],
   "source": [
    "import pandas as pd\n",
    "import sys\n",
    "print(sys.version)\n",
    "print(pd.__version__)"
   ]
  },
  {
   "cell_type": "code",
   "execution_count": null,
   "id": "edef9820-f3a3-47ba-bf80-a8efb0fa4f48",
   "metadata": {},
   "outputs": [],
   "source": [
    "pd.DataFrame()"
   ]
  },
  {
   "cell_type": "code",
   "execution_count": null,
   "id": "f0b08ef2-5fdb-4f31-b543-176022a5e6c1",
   "metadata": {},
   "outputs": [],
   "source": [
    "import kagglehub\n",
    "\n",
    "# Download latest version\n",
    "path = kagglehub.dataset_download(\"robikscube/flight-delay-dataset-20182022\")\n",
    "\n",
    "print(\"Path to dataset files:\", path)"
   ]
  },
  {
   "cell_type": "code",
   "execution_count": null,
   "id": "3b3aef26-5ead-486b-9b8d-6503ef592f11",
   "metadata": {},
   "outputs": [],
   "source": [
    "df = pd.read_parquet(r\"C:\\Users\\gjithend\\Downloads\\archive\\Combined_Flights_2022.parquet\")"
   ]
  },
  {
   "cell_type": "code",
   "execution_count": null,
   "id": "b1a59554-653c-4b5d-a626-c3dd904df58a",
   "metadata": {},
   "outputs": [],
   "source": [
    "df = df.head(500)"
   ]
  },
  {
   "cell_type": "code",
   "execution_count": null,
   "id": "0afdc928-068b-45f5-a2d7-578422b06f2e",
   "metadata": {},
   "outputs": [],
   "source": [
    "#https://www.kaggle.com/datasets/robikscube/flight-delay-dataset-20182022"
   ]
  },
  {
   "cell_type": "code",
   "execution_count": null,
   "id": "efc0a843-aabd-4bcb-ab4a-a3b9dbff94a7",
   "metadata": {},
   "outputs": [],
   "source": [
    "type(df)"
   ]
  },
  {
   "cell_type": "code",
   "execution_count": null,
   "id": "c0500318-38af-4cc9-b62a-c6b88a5451ac",
   "metadata": {},
   "outputs": [],
   "source": [
    "df.to_csv(\"\", index=False)"
   ]
  },
  {
   "cell_type": "code",
   "execution_count": null,
   "id": "85666f65-0415-49f0-945c-97bfb254b649",
   "metadata": {},
   "outputs": [],
   "source": [
    "df.head()"
   ]
  },
  {
   "cell_type": "code",
   "execution_count": null,
   "id": "59bf027d-0754-4ea5-b3f9-5181ee81c4f6",
   "metadata": {},
   "outputs": [],
   "source": [
    "df.tail()"
   ]
  },
  {
   "cell_type": "code",
   "execution_count": null,
   "id": "a7a05c2a-e848-4fe5-949d-989b83e37d30",
   "metadata": {},
   "outputs": [],
   "source": [
    "df.sample(5)"
   ]
  },
  {
   "cell_type": "code",
   "execution_count": null,
   "id": "55291d01-6f0a-4f75-b561-1de94ff127c4",
   "metadata": {},
   "outputs": [],
   "source": [
    "df.sample(frac=0.1, random_state=529)"
   ]
  },
  {
   "cell_type": "code",
   "execution_count": null,
   "id": "ca352e59-75ed-486c-8136-2d3cd0ca877c",
   "metadata": {},
   "outputs": [],
   "source": [
    "df.columns"
   ]
  },
  {
   "cell_type": "code",
   "execution_count": null,
   "id": "299133c6-e14f-4574-b70b-8048973cae7f",
   "metadata": {},
   "outputs": [],
   "source": [
    "df.index"
   ]
  },
  {
   "cell_type": "code",
   "execution_count": null,
   "id": "0c09886a-e924-48dd-97b0-d8656df5c6b7",
   "metadata": {},
   "outputs": [],
   "source": [
    "df.info()"
   ]
  },
  {
   "cell_type": "code",
   "execution_count": null,
   "id": "5f310129-c6fd-495e-b96b-57be6584f438",
   "metadata": {},
   "outputs": [],
   "source": [
    "df.describe()"
   ]
  },
  {
   "cell_type": "code",
   "execution_count": null,
   "id": "32c3b2b3-444c-42e9-8ae1-4525862e6dc2",
   "metadata": {},
   "outputs": [],
   "source": [
    "df.shape"
   ]
  },
  {
   "cell_type": "code",
   "execution_count": null,
   "id": "dd603f95-0310-4b75-b3dd-5cf2fa3c8f53",
   "metadata": {},
   "outputs": [],
   "source": [
    "len(df)"
   ]
  },
  {
   "cell_type": "markdown",
   "id": "0b89fb25-6ce8-485f-9139-034ad24135f4",
   "metadata": {},
   "source": [
    "# Subsetting Dataframe"
   ]
  },
  {
   "cell_type": "code",
   "execution_count": null,
   "id": "6f0d8bd1-6bec-476d-bd54-e9faecd736b5",
   "metadata": {},
   "outputs": [],
   "source": [
    "df.columns[:5]"
   ]
  },
  {
   "cell_type": "code",
   "execution_count": null,
   "id": "85e2351e-df17-46fb-b3d4-3aac6ed9ea66",
   "metadata": {},
   "outputs": [],
   "source": [
    "df[df.columns[:5]]"
   ]
  },
  {
   "cell_type": "code",
   "execution_count": null,
   "id": "f2796461-7422-4fe3-928c-b392d93eb4ee",
   "metadata": {},
   "outputs": [],
   "source": [
    "df[df.columns[::5]] #every 5th column"
   ]
  },
  {
   "cell_type": "code",
   "execution_count": null,
   "id": "e336c976-2285-4185-a33f-e0c32dc76121",
   "metadata": {},
   "outputs": [],
   "source": [
    "[x for x in df.columns if 'Time' in x]"
   ]
  },
  {
   "cell_type": "code",
   "execution_count": null,
   "id": "82cfb4c6-a867-4a1c-829f-017a33ab4b14",
   "metadata": {},
   "outputs": [],
   "source": [
    "df.select_dtypes('int')"
   ]
  },
  {
   "cell_type": "code",
   "execution_count": null,
   "id": "e6dd12e5-98b8-43b1-8502-c2a7a4b6e02f",
   "metadata": {},
   "outputs": [],
   "source": [
    "df.dtypes.reset_index().rename(columns={'index':'column', 0:'type'})"
   ]
  },
  {
   "cell_type": "code",
   "execution_count": null,
   "id": "6d660e4e-0ca1-49b1-b8b5-0f1d5b87a8d4",
   "metadata": {},
   "outputs": [],
   "source": [
    "#series\n",
    "df['Airline']\n",
    "\n",
    "#dataframe\n",
    "df[['Airline']]"
   ]
  },
  {
   "cell_type": "markdown",
   "id": "77e11bfa-b379-4d37-9c75-06c85eb208c2",
   "metadata": {},
   "source": [
    "## Filtering Rows"
   ]
  },
  {
   "cell_type": "code",
   "execution_count": null,
   "id": "89c577b6-c5a8-4963-84f4-5ed4b922c720",
   "metadata": {},
   "outputs": [],
   "source": [
    "#df.loc[] and df.iloc[]"
   ]
  },
  {
   "cell_type": "code",
   "execution_count": null,
   "id": "b36231c8-58b7-4625-b75a-3ef0cbb143fc",
   "metadata": {},
   "outputs": [],
   "source": [
    "#[row, col] - [5], [:5], [5:], [:, [1,2]] \n",
    "df.iloc[1, 3]"
   ]
  },
  {
   "cell_type": "code",
   "execution_count": null,
   "id": "d996d387-d95a-4575-aba4-e3ab06c590d4",
   "metadata": {},
   "outputs": [],
   "source": [
    "df.loc[:, ['Airline','Origin']]"
   ]
  },
  {
   "cell_type": "code",
   "execution_count": null,
   "id": "09a1ca85-c3db-4c88-879f-aaf507cf872b",
   "metadata": {},
   "outputs": [],
   "source": [
    "df.loc[df['Airline'] == 'Spirit Air Lines']"
   ]
  },
  {
   "cell_type": "code",
   "execution_count": null,
   "id": "50287ea4-eb64-455e-afd5-9ea8516fb3eb",
   "metadata": {},
   "outputs": [],
   "source": [
    "df.loc[(df['Airline'] == 'Spirit Air Lines') & (df['FlightDate'] == '2022-09-09')]"
   ]
  },
  {
   "cell_type": "code",
   "execution_count": null,
   "id": "c2e0c4a4-e137-4707-933e-7584bd0d76f3",
   "metadata": {},
   "outputs": [],
   "source": [
    "df.loc[~((df['Airline'] == 'Spirit Air Lines') & (df['FlightDate'] == '2022-09-09'))]"
   ]
  },
  {
   "cell_type": "markdown",
   "id": "96d788e8-93c2-4cb3-b2ea-eef389b4c56f",
   "metadata": {},
   "source": [
    "## Filtering Data By Query"
   ]
  },
  {
   "cell_type": "code",
   "execution_count": null,
   "id": "291aaf2d-6b4f-4798-b98b-ad0462427e11",
   "metadata": {},
   "outputs": [],
   "source": [
    "df.query('(DepTime>1130) and (Origin==\"DRO\")')"
   ]
  },
  {
   "cell_type": "code",
   "execution_count": null,
   "id": "2952215e-97d8-4c60-be2c-bf521226a561",
   "metadata": {},
   "outputs": [],
   "source": [
    "min_time=1130\n",
    "df.query('(DepTime>@min_time) and (Origin==\"DRO\")')"
   ]
  },
  {
   "cell_type": "markdown",
   "id": "9c44fc8e-40bd-45a3-a5cb-26ddfb7b8de2",
   "metadata": {},
   "source": [
    "## Summarizing Data"
   ]
  },
  {
   "cell_type": "code",
   "execution_count": null,
   "id": "64c6ad21-66f8-49f0-adfe-6c8d58741ff4",
   "metadata": {},
   "outputs": [],
   "source": [
    "df['DepTime'].min()\n",
    "df['DepTime'].max()\n",
    "df['DepTime'].mean()\n",
    "df['DepTime'].median()\n",
    "df['DepTime'].count()\n",
    "df['DepTime'].std()\n",
    "df['DepTime'].var() \n",
    "df['DepTime'].sum()\n",
    "df['DepTime'].quantile([0.25,0.75])"
   ]
  },
  {
   "cell_type": "code",
   "execution_count": null,
   "id": "254d7ece-fa27-4240-bfb0-18475704abb0",
   "metadata": {},
   "outputs": [],
   "source": [
    "df[['DepTime', 'DepDelay']].agg(['mean','min','max']).transpose()"
   ]
  },
  {
   "cell_type": "code",
   "execution_count": null,
   "id": "4f95aaca-7f69-4ce2-958d-9fd1b29dc330",
   "metadata": {},
   "outputs": [],
   "source": [
    "df[['DepTime', 'DepDelay']].agg({'DepTime':['mean','min','max'], 'DepDelay':['mean']}).transpose()"
   ]
  },
  {
   "cell_type": "markdown",
   "id": "3544274c-3a25-4e6c-aa77-ccd4df7d6f44",
   "metadata": {},
   "source": [
    "## Summarizing Categorical Variables"
   ]
  },
  {
   "cell_type": "code",
   "execution_count": null,
   "id": "76d444dc-9527-4c15-9657-db916bcb02b1",
   "metadata": {},
   "outputs": [],
   "source": [
    "df['Airline'].unique()"
   ]
  },
  {
   "cell_type": "code",
   "execution_count": null,
   "id": "4a33b7b3-3251-4b1b-a9a2-cecaa999837f",
   "metadata": {},
   "outputs": [],
   "source": [
    "df['Airline'].nunique()"
   ]
  },
  {
   "cell_type": "code",
   "execution_count": null,
   "id": "349cce76-04e0-45db-aeb5-7a190cf42591",
   "metadata": {},
   "outputs": [],
   "source": [
    "df[['Airline', 'Origin']].drop_duplicates().shape[0]"
   ]
  },
  {
   "cell_type": "code",
   "execution_count": null,
   "id": "191c0edc-bab1-49f2-91ad-1f4cc4fd21fb",
   "metadata": {},
   "outputs": [],
   "source": [
    "df['Airline'].value_counts()"
   ]
  },
  {
   "cell_type": "code",
   "execution_count": null,
   "id": "cc265f52-f0b8-4c8b-b02b-287be9ee16e0",
   "metadata": {},
   "outputs": [],
   "source": [
    "df[['Airline', 'Origin']].value_counts().to_frame()"
   ]
  },
  {
   "cell_type": "code",
   "execution_count": null,
   "id": "fe769679-733c-462e-9f3a-a3ea0a32b93b",
   "metadata": {},
   "outputs": [],
   "source": [
    "df[['Airline', 'Origin']].value_counts().reset_index()"
   ]
  },
  {
   "cell_type": "code",
   "execution_count": null,
   "id": "c5f0de94-1f94-49c5-a0c4-358d994ee0ed",
   "metadata": {},
   "outputs": [],
   "source": [
    "df['DepTime'].clip(1000,2000)"
   ]
  },
  {
   "cell_type": "markdown",
   "id": "b7f5dd0c-3892-4d69-af43-cadeb99e5dc5",
   "metadata": {},
   "source": [
    "## GroupBy "
   ]
  },
  {
   "cell_type": "code",
   "execution_count": null,
   "id": "775d4667-083d-463e-a5f1-78051e50c050",
   "metadata": {},
   "outputs": [],
   "source": [
    "df.groupby('Airline')[['DepDelay','ArrDelay']].mean()"
   ]
  },
  {
   "cell_type": "code",
   "execution_count": null,
   "id": "60d25d0f-5276-4f87-b5e2-25aaa42ab323",
   "metadata": {},
   "outputs": [],
   "source": [
    "df.groupby('Airline')[['DepDelay','ArrDelay']].agg(['mean','min','max'])"
   ]
  },
  {
   "cell_type": "code",
   "execution_count": null,
   "id": "98c5a009-2e7f-4f8d-b51f-50044421d3fa",
   "metadata": {},
   "outputs": [],
   "source": [
    "df.columns.to_flat_index()"
   ]
  },
  {
   "cell_type": "code",
   "execution_count": null,
   "id": "56b9fa2e-1177-47ff-bbed-fc5d3b4c8762",
   "metadata": {},
   "outputs": [],
   "source": [
    "df.columns"
   ]
  },
  {
   "cell_type": "code",
   "execution_count": null,
   "id": "8f150d43-fa1f-425c-b633-aed45be80f11",
   "metadata": {},
   "outputs": [],
   "source": [
    "type(df.columns)"
   ]
  },
  {
   "cell_type": "markdown",
   "id": "84657e57-a628-453b-ad32-bb043fc73db4",
   "metadata": {},
   "source": [
    "## NEw columns"
   ]
  },
  {
   "cell_type": "code",
   "execution_count": null,
   "id": "4acd1d05-49ee-405c-835d-a3d76dbd751e",
   "metadata": {},
   "outputs": [],
   "source": [
    "df['DepTime2']=df['DepTime']/60"
   ]
  },
  {
   "cell_type": "code",
   "execution_count": null,
   "id": "c74e938a-3a10-4de7-9fdd-9e2f9eb5e584",
   "metadata": {},
   "outputs": [],
   "source": [
    "df.columns"
   ]
  },
  {
   "cell_type": "markdown",
   "id": "dcb9edc3-e36a-4435-969a-f797dc3aecb1",
   "metadata": {},
   "source": [
    "## Sorting Data"
   ]
  },
  {
   "cell_type": "code",
   "execution_count": null,
   "id": "b00dd917-6f00-408c-abf4-b9951138e94d",
   "metadata": {},
   "outputs": [],
   "source": [
    "df = df.head(500)"
   ]
  },
  {
   "cell_type": "code",
   "execution_count": null,
   "id": "6496226c-76cf-436f-9177-4223e89e14ea",
   "metadata": {},
   "outputs": [],
   "source": [
    "df = df.sort_values('ArrDelay', ascending=False).reset_index(drop=True)"
   ]
  },
  {
   "cell_type": "code",
   "execution_count": null,
   "id": "8cd6a59f-c5d4-4639-aa0f-bacf22de7180",
   "metadata": {},
   "outputs": [],
   "source": [
    "df[['FlightDate','Airline']].sort_index()"
   ]
  },
  {
   "cell_type": "code",
   "execution_count": null,
   "id": "ea81af38-873b-4d7d-b9af-b2325c3eb923",
   "metadata": {},
   "outputs": [],
   "source": [
    "df.sample(50).reset_index(drop=True)"
   ]
  },
  {
   "cell_type": "markdown",
   "id": "4daf03da-8aaa-4414-9359-77bda0a701e1",
   "metadata": {},
   "source": [
    "## Handig Missing Data"
   ]
  },
  {
   "cell_type": "code",
   "execution_count": null,
   "id": "86fc4932-af30-44bb-bca3-816282fa6e5b",
   "metadata": {},
   "outputs": [],
   "source": [
    "df['FlightDate'].isna().sum()"
   ]
  },
  {
   "cell_type": "code",
   "execution_count": null,
   "id": "3651d49f-aabd-4e74-9342-6ca5a370fc62",
   "metadata": {},
   "outputs": [],
   "source": [
    "df[['FlightDate','Airline']].dropna()"
   ]
  },
  {
   "cell_type": "code",
   "execution_count": null,
   "id": "90b091ae-3d8f-4670-ac3e-f44eb4469aa5",
   "metadata": {},
   "outputs": [],
   "source": [
    "df[['FlightDate','Airline']].dropna(subset=['ArrDelay'])"
   ]
  },
  {
   "cell_type": "code",
   "execution_count": null,
   "id": "099e8c91-17aa-4259-9f27-134a66c9163b",
   "metadata": {},
   "outputs": [],
   "source": [
    "df[['FlightDate','Airline']].fillna(0)"
   ]
  },
  {
   "cell_type": "code",
   "execution_count": null,
   "id": "95900ee9-4e41-420d-b9c2-6b081b3f2190",
   "metadata": {},
   "outputs": [],
   "source": [
    "df[['ArrDelay']].fillna(df['ArrDelay'].mean())"
   ]
  },
  {
   "cell_type": "markdown",
   "id": "7c562b7b-c385-4e94-9f54-434133ea1adc",
   "metadata": {},
   "source": [
    "## Combining Data"
   ]
  },
  {
   "cell_type": "code",
   "execution_count": null,
   "id": "2b750fd5-1629-4e6c-9626-5182777e430a",
   "metadata": {},
   "outputs": [],
   "source": [
    "df.loc[df['Airline']=='GoJet Airlines, LLC d/b/a United Express',:]"
   ]
  },
  {
   "cell_type": "code",
   "execution_count": 24,
   "id": "0a82fafb-1b89-4c68-8cb6-35f74ba423f2",
   "metadata": {},
   "outputs": [],
   "source": [
    "df1 = df.query('Airline==\"GoJet Airlines, LLC d/b/a United Express\"')\n",
    "df2 = df.query('Airline==\"Air Wisconsin Airlines Corp\"')\n",
    "\n",
    "df_stack = pd.concat([df1, df2])\n",
    "\n",
    "df1 = df1.reset_index(drop=True)\n",
    "df2 = df2.reset_index(drop=True)\n",
    "\n",
    "df_side = pd.concat([df1,df2], axis=1)"
   ]
  },
  {
   "cell_type": "code",
   "execution_count": null,
   "id": "b41a1278-a3ff-476d-bc7d-02660168b592",
   "metadata": {},
   "outputs": [],
   "source": [
    "df1.shape, df2.shape, df_stack.shape, df_side.shape"
   ]
  },
  {
   "cell_type": "markdown",
   "id": "8249cbea-f4bb-400f-ba69-8618838963d8",
   "metadata": {},
   "source": [
    "## Merge Data"
   ]
  },
  {
   "cell_type": "code",
   "execution_count": 25,
   "id": "bb4cbcc2-d421-40b5-86f0-9ae1aa12b858",
   "metadata": {},
   "outputs": [],
   "source": [
    "df1 = df.groupby(['Airline','FlightDate'])[['DepDelay']].mean().reset_index()\n",
    "df2 = df.groupby(['Airline','FlightDate'])[['ArrDelay']].mean().reset_index()"
   ]
  },
  {
   "cell_type": "code",
   "execution_count": null,
   "id": "ec2d7208-6143-4f2d-8145-f7e6696cd2b8",
   "metadata": {},
   "outputs": [],
   "source": [
    "df1.merge(df2, how='left',on=['Airline'])"
   ]
  },
  {
   "cell_type": "code",
   "execution_count": null,
   "id": "976a5e8b-b88b-4ed1-9b1a-916a410cc875",
   "metadata": {},
   "outputs": [],
   "source": [
    "pd.merge(df1, df2, how='left', on=['Airline'], suffixes=('_dep','_arr'))"
   ]
  },
  {
   "cell_type": "code",
   "execution_count": null,
   "id": "58f36c14-8e5a-4424-990f-2db3f30054d3",
   "metadata": {},
   "outputs": [],
   "source": [
    "df.dtypes.reset_index()"
   ]
  },
  {
   "cell_type": "code",
   "execution_count": null,
   "id": "7db2c2ec-e8a1-4c54-935f-b930b6f918c3",
   "metadata": {},
   "outputs": [],
   "source": [
    "dfi = dfi.rename(columns={\n",
    "    'asin': 'ASIN',\n",
    "    'source_column': 'Source',\n",
    "    'topic': 'Topic',\n",
    "    'asinOccurrence.occurrencePercentage': 'Occurrence_Percentage'\n",
    "})"
   ]
  },
  {
   "cell_type": "code",
   "execution_count": null,
   "id": "3956076c-b536-448e-b9c2-11ac41de4677",
   "metadata": {},
   "outputs": [],
   "source": [
    "dfi['Sum_Occurrence_Percentage'] = (dfi.groupby(['ASIN','Source','Topic'])['Occurrence_Percentage'].transform('sum'))"
   ]
  },
  {
   "cell_type": "code",
   "execution_count": null,
   "id": "a5aed480-e49f-41f3-8a7e-32ef72a73d1e",
   "metadata": {},
   "outputs": [],
   "source": []
  },
  {
   "cell_type": "code",
   "execution_count": null,
   "id": "c0043869-b736-4e32-ad1d-0e6d135df2fd",
   "metadata": {},
   "outputs": [],
   "source": []
  },
  {
   "cell_type": "code",
   "execution_count": 27,
   "id": "ce0296db-ce60-4733-b309-1bfff6bbabb0",
   "metadata": {},
   "outputs": [
    {
     "name": "stderr",
     "output_type": "stream",
     "text": [
      "Cloning into 'LEARNINGS'...\n"
     ]
    }
   ],
   "source": [
    "!git config --global user.name \"gali-jithendra\"\n",
    "!git config --global user.email \"gali.jithendr@gmail.com\"\n",
    "\n",
    "!git clone git@github.com:gali-jithendra/LEARNINGS.git"
   ]
  },
  {
   "cell_type": "code",
   "execution_count": 28,
   "id": "e83ea715-0c38-419d-a04e-2edcf9115860",
   "metadata": {},
   "outputs": [
    {
     "name": "stdout",
     "output_type": "stream",
     "text": [
      "C:\\Users\\gjithend\\Desktop\\HTML_PROJECT\\ALL_FOLDERS\\LEARNINGS\\UPSKILL_REVISION_20thOCTOBER2025\\LEARNINGS\n"
     ]
    }
   ],
   "source": [
    "%cd LEARNINGS"
   ]
  },
  {
   "cell_type": "code",
   "execution_count": 29,
   "id": "a944baeb-3b51-4d26-8abf-61b02b28301a",
   "metadata": {},
   "outputs": [
    {
     "name": "stdout",
     "output_type": "stream",
     "text": [
      "On branch main\n",
      "Your branch is up to date with 'origin/main'.\n",
      "\n",
      "nothing to commit, working tree clean\n"
     ]
    }
   ],
   "source": [
    "!git status"
   ]
  },
  {
   "cell_type": "code",
   "execution_count": null,
   "id": "9e119d08-0078-4c55-9f94-e3d011920599",
   "metadata": {},
   "outputs": [],
   "source": []
  }
 ],
 "metadata": {
  "kernelspec": {
   "display_name": "Python 3 (ipykernel)",
   "language": "python",
   "name": "python3"
  },
  "language_info": {
   "codemirror_mode": {
    "name": "ipython",
    "version": 3
   },
   "file_extension": ".py",
   "mimetype": "text/x-python",
   "name": "python",
   "nbconvert_exporter": "python",
   "pygments_lexer": "ipython3",
   "version": "3.11.7"
  }
 },
 "nbformat": 4,
 "nbformat_minor": 5
}
